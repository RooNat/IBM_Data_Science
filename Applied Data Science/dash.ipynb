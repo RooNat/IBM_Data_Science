{
 "cells": [
  {
   "cell_type": "code",
   "execution_count": 2,
   "outputs": [],
   "source": [
    "import numpy as np\n",
    "import pandas as pd\n",
    "import plotly.express as px"
   ],
   "metadata": {
    "collapsed": false,
    "pycharm": {
     "name": "#%%\n"
    }
   }
  },
  {
   "cell_type": "code",
   "execution_count": 32,
   "outputs": [],
   "source": [
    "spacex_df=pd.read_csv('spacex_launch_dash.csv')\n",
    "spacex_df\n",
    "payload=[0,10000]"
   ],
   "metadata": {
    "collapsed": false,
    "pycharm": {
     "name": "#%%\n"
    }
   }
  },
  {
   "cell_type": "code",
   "execution_count": 33,
   "outputs": [
    {
     "data": {
      "text/plain": "    Unnamed: 0  Flight Number   Launch Site  class  Payload Mass (kg)  \\\n0            0              1   CCAFS LC-40      0               0.00   \n1            1              2   CCAFS LC-40      0               0.00   \n2            2              3   CCAFS LC-40      0             525.00   \n3            3              4   CCAFS LC-40      0             500.00   \n4            4              5   CCAFS LC-40      0             677.00   \n5            5              7   CCAFS LC-40      0            3170.00   \n6            6              8   CCAFS LC-40      0            3325.00   \n7            7              9   CCAFS LC-40      0            2296.00   \n8            8             10   CCAFS LC-40      0            1316.00   \n9            9             11   CCAFS LC-40      0            4535.00   \n10          10             12   CCAFS LC-40      0            4428.00   \n11          11             13   CCAFS LC-40      0            2216.00   \n12          12             14   CCAFS LC-40      0            2395.00   \n13          13             15   CCAFS LC-40      0             570.00   \n14          14             16   CCAFS LC-40      0            4159.00   \n15          15             17   CCAFS LC-40      0            1898.00   \n16          16             18   CCAFS LC-40      0            4707.00   \n17          17             19   CCAFS LC-40      1            1952.00   \n18          18             20   CCAFS LC-40      1            2034.00   \n19          19             22   CCAFS LC-40      0            5271.00   \n20          20             23   CCAFS LC-40      1            3136.00   \n21          21             24   CCAFS LC-40      1            4696.00   \n22          22             25   CCAFS LC-40      1            3100.00   \n23          23             26   CCAFS LC-40      0            3600.00   \n24          24             27   CCAFS LC-40      1            2257.00   \n25          25             28   CCAFS LC-40      1            4600.00   \n26          26              6   VAFB SLC-4E      0             500.00   \n27          27             21   VAFB SLC-4E      0             553.00   \n28          28             29   VAFB SLC-4E      1            9600.00   \n29          29             37   VAFB SLC-4E      1            9600.00   \n30          30             40   VAFB SLC-4E      1             475.00   \n31          31             42   VAFB SLC-4E      1            9600.00   \n32          32             46   VAFB SLC-4E      0            9600.00   \n33          33             49   VAFB SLC-4E      0            2150.00   \n34          34             51   VAFB SLC-4E      0            9600.00   \n35          35             55   VAFB SLC-4E      0            6460.00   \n36          36             30    KSC LC-39A      1            2490.00   \n37          37             31    KSC LC-39A      0            5600.00   \n38          38             32    KSC LC-39A      1            5300.00   \n39          39             33    KSC LC-39A      1            3696.65   \n40          40             34    KSC LC-39A      0            6070.00   \n41          41             35    KSC LC-39A      1            2708.00   \n42          42             36    KSC LC-39A      1            3669.00   \n43          43             38    KSC LC-39A      0            6761.00   \n44          44             39    KSC LC-39A      1            3310.00   \n45          45             41    KSC LC-39A      1            4990.00   \n46          46             43    KSC LC-39A      1            5200.00   \n47          47             44    KSC LC-39A      1            3500.00   \n48          48             54    KSC LC-39A      1            3600.00   \n49          49             45  CCAFS SLC-40      1            2205.00   \n50          50             47  CCAFS SLC-40      1            3696.65   \n51          51             48  CCAFS SLC-40      0            4230.00   \n52          52             50  CCAFS SLC-40      0            6092.00   \n53          53             52  CCAFS SLC-40      0            2647.00   \n54          54             53  CCAFS SLC-40      1             362.00   \n55          55             56  CCAFS SLC-40      0            5384.00   \n\n   Booster Version Booster Version Category  \n0   F9 v1.0  B0003                     v1.0  \n1   F9 v1.0  B0004                     v1.0  \n2   F9 v1.0  B0005                     v1.0  \n3   F9 v1.0  B0006                     v1.0  \n4   F9 v1.0  B0007                     v1.0  \n5          F9 v1.1                     v1.1  \n6          F9 v1.1                     v1.1  \n7          F9 v1.1                     v1.1  \n8          F9 v1.1                     v1.1  \n9          F9 v1.1                     v1.1  \n10   F9 v1.1 B1011                     v1.1  \n11   F9 v1.1 B1010                     v1.1  \n12   F9 v1.1 B1012                     v1.1  \n13   F9 v1.1 B1013                     v1.1  \n14   F9 v1.1 B1014                     v1.1  \n15   F9 v1.1 B1015                     v1.1  \n16   F9 v1.1 B1016                     v1.1  \n17   F9 v1.1 B1018                     v1.1  \n18     F9 FT B1019                       FT  \n19     F9 FT B1020                       FT  \n20   F9 FT B1021.1                       FT  \n21     F9 FT B1022                       FT  \n22   F9 FT B1023.1                       FT  \n23     F9 FT B1024                       FT  \n24   F9 FT B1025.1                       FT  \n25     F9 FT B1026                       FT  \n26  F9 v1.1  B1003                     v1.1  \n27   F9 v1.1 B1017                     v1.1  \n28   F9 FT B1029.1                       FT  \n29   F9 FT B1036.1                       FT  \n30   F9 FT B1038.1                       FT  \n31   F9 B4 B1041.1                       B4  \n32  F9 FT  B1036.2                       FT  \n33  F9 FT  B1038.2                       FT  \n34  F9 B4  B1041.2                       B4  \n35  F9 B4  B1043.2                       B4  \n36   F9 FT B1031.1                       FT  \n37     F9 FT B1030                       FT  \n38  F9 FT  B1021.2                       FT  \n39   F9 FT B1032.1                       FT  \n40     F9 FT B1034                       FT  \n41   F9 FT B1035.1                       FT  \n42  F9 FT  B1029.2                       FT  \n43     F9 FT B1037                       FT  \n44   F9 B4 B1039.1                       B4  \n45   F9 B4 B1040.1                       B4  \n46  F9 FT  B1031.2                       FT  \n47   F9 B4 B1042.1                       B4  \n48  F9 B5  B1046.1                       B5  \n49  F9 FT  B1035.2                       FT  \n50   F9 B4 B1043.1                       B4  \n51  F9 FT  B1032.2                       FT  \n52     F9 B4 B1044                       B4  \n53  F9 B4  B1039.2                       B4  \n54   F9 B4 B1045.1                       B4  \n55  F9 B4  B1040.2                       B4  ",
      "text/html": "<div>\n<style scoped>\n    .dataframe tbody tr th:only-of-type {\n        vertical-align: middle;\n    }\n\n    .dataframe tbody tr th {\n        vertical-align: top;\n    }\n\n    .dataframe thead th {\n        text-align: right;\n    }\n</style>\n<table border=\"1\" class=\"dataframe\">\n  <thead>\n    <tr style=\"text-align: right;\">\n      <th></th>\n      <th>Unnamed: 0</th>\n      <th>Flight Number</th>\n      <th>Launch Site</th>\n      <th>class</th>\n      <th>Payload Mass (kg)</th>\n      <th>Booster Version</th>\n      <th>Booster Version Category</th>\n    </tr>\n  </thead>\n  <tbody>\n    <tr>\n      <th>0</th>\n      <td>0</td>\n      <td>1</td>\n      <td>CCAFS LC-40</td>\n      <td>0</td>\n      <td>0.00</td>\n      <td>F9 v1.0  B0003</td>\n      <td>v1.0</td>\n    </tr>\n    <tr>\n      <th>1</th>\n      <td>1</td>\n      <td>2</td>\n      <td>CCAFS LC-40</td>\n      <td>0</td>\n      <td>0.00</td>\n      <td>F9 v1.0  B0004</td>\n      <td>v1.0</td>\n    </tr>\n    <tr>\n      <th>2</th>\n      <td>2</td>\n      <td>3</td>\n      <td>CCAFS LC-40</td>\n      <td>0</td>\n      <td>525.00</td>\n      <td>F9 v1.0  B0005</td>\n      <td>v1.0</td>\n    </tr>\n    <tr>\n      <th>3</th>\n      <td>3</td>\n      <td>4</td>\n      <td>CCAFS LC-40</td>\n      <td>0</td>\n      <td>500.00</td>\n      <td>F9 v1.0  B0006</td>\n      <td>v1.0</td>\n    </tr>\n    <tr>\n      <th>4</th>\n      <td>4</td>\n      <td>5</td>\n      <td>CCAFS LC-40</td>\n      <td>0</td>\n      <td>677.00</td>\n      <td>F9 v1.0  B0007</td>\n      <td>v1.0</td>\n    </tr>\n    <tr>\n      <th>5</th>\n      <td>5</td>\n      <td>7</td>\n      <td>CCAFS LC-40</td>\n      <td>0</td>\n      <td>3170.00</td>\n      <td>F9 v1.1</td>\n      <td>v1.1</td>\n    </tr>\n    <tr>\n      <th>6</th>\n      <td>6</td>\n      <td>8</td>\n      <td>CCAFS LC-40</td>\n      <td>0</td>\n      <td>3325.00</td>\n      <td>F9 v1.1</td>\n      <td>v1.1</td>\n    </tr>\n    <tr>\n      <th>7</th>\n      <td>7</td>\n      <td>9</td>\n      <td>CCAFS LC-40</td>\n      <td>0</td>\n      <td>2296.00</td>\n      <td>F9 v1.1</td>\n      <td>v1.1</td>\n    </tr>\n    <tr>\n      <th>8</th>\n      <td>8</td>\n      <td>10</td>\n      <td>CCAFS LC-40</td>\n      <td>0</td>\n      <td>1316.00</td>\n      <td>F9 v1.1</td>\n      <td>v1.1</td>\n    </tr>\n    <tr>\n      <th>9</th>\n      <td>9</td>\n      <td>11</td>\n      <td>CCAFS LC-40</td>\n      <td>0</td>\n      <td>4535.00</td>\n      <td>F9 v1.1</td>\n      <td>v1.1</td>\n    </tr>\n    <tr>\n      <th>10</th>\n      <td>10</td>\n      <td>12</td>\n      <td>CCAFS LC-40</td>\n      <td>0</td>\n      <td>4428.00</td>\n      <td>F9 v1.1 B1011</td>\n      <td>v1.1</td>\n    </tr>\n    <tr>\n      <th>11</th>\n      <td>11</td>\n      <td>13</td>\n      <td>CCAFS LC-40</td>\n      <td>0</td>\n      <td>2216.00</td>\n      <td>F9 v1.1 B1010</td>\n      <td>v1.1</td>\n    </tr>\n    <tr>\n      <th>12</th>\n      <td>12</td>\n      <td>14</td>\n      <td>CCAFS LC-40</td>\n      <td>0</td>\n      <td>2395.00</td>\n      <td>F9 v1.1 B1012</td>\n      <td>v1.1</td>\n    </tr>\n    <tr>\n      <th>13</th>\n      <td>13</td>\n      <td>15</td>\n      <td>CCAFS LC-40</td>\n      <td>0</td>\n      <td>570.00</td>\n      <td>F9 v1.1 B1013</td>\n      <td>v1.1</td>\n    </tr>\n    <tr>\n      <th>14</th>\n      <td>14</td>\n      <td>16</td>\n      <td>CCAFS LC-40</td>\n      <td>0</td>\n      <td>4159.00</td>\n      <td>F9 v1.1 B1014</td>\n      <td>v1.1</td>\n    </tr>\n    <tr>\n      <th>15</th>\n      <td>15</td>\n      <td>17</td>\n      <td>CCAFS LC-40</td>\n      <td>0</td>\n      <td>1898.00</td>\n      <td>F9 v1.1 B1015</td>\n      <td>v1.1</td>\n    </tr>\n    <tr>\n      <th>16</th>\n      <td>16</td>\n      <td>18</td>\n      <td>CCAFS LC-40</td>\n      <td>0</td>\n      <td>4707.00</td>\n      <td>F9 v1.1 B1016</td>\n      <td>v1.1</td>\n    </tr>\n    <tr>\n      <th>17</th>\n      <td>17</td>\n      <td>19</td>\n      <td>CCAFS LC-40</td>\n      <td>1</td>\n      <td>1952.00</td>\n      <td>F9 v1.1 B1018</td>\n      <td>v1.1</td>\n    </tr>\n    <tr>\n      <th>18</th>\n      <td>18</td>\n      <td>20</td>\n      <td>CCAFS LC-40</td>\n      <td>1</td>\n      <td>2034.00</td>\n      <td>F9 FT B1019</td>\n      <td>FT</td>\n    </tr>\n    <tr>\n      <th>19</th>\n      <td>19</td>\n      <td>22</td>\n      <td>CCAFS LC-40</td>\n      <td>0</td>\n      <td>5271.00</td>\n      <td>F9 FT B1020</td>\n      <td>FT</td>\n    </tr>\n    <tr>\n      <th>20</th>\n      <td>20</td>\n      <td>23</td>\n      <td>CCAFS LC-40</td>\n      <td>1</td>\n      <td>3136.00</td>\n      <td>F9 FT B1021.1</td>\n      <td>FT</td>\n    </tr>\n    <tr>\n      <th>21</th>\n      <td>21</td>\n      <td>24</td>\n      <td>CCAFS LC-40</td>\n      <td>1</td>\n      <td>4696.00</td>\n      <td>F9 FT B1022</td>\n      <td>FT</td>\n    </tr>\n    <tr>\n      <th>22</th>\n      <td>22</td>\n      <td>25</td>\n      <td>CCAFS LC-40</td>\n      <td>1</td>\n      <td>3100.00</td>\n      <td>F9 FT B1023.1</td>\n      <td>FT</td>\n    </tr>\n    <tr>\n      <th>23</th>\n      <td>23</td>\n      <td>26</td>\n      <td>CCAFS LC-40</td>\n      <td>0</td>\n      <td>3600.00</td>\n      <td>F9 FT B1024</td>\n      <td>FT</td>\n    </tr>\n    <tr>\n      <th>24</th>\n      <td>24</td>\n      <td>27</td>\n      <td>CCAFS LC-40</td>\n      <td>1</td>\n      <td>2257.00</td>\n      <td>F9 FT B1025.1</td>\n      <td>FT</td>\n    </tr>\n    <tr>\n      <th>25</th>\n      <td>25</td>\n      <td>28</td>\n      <td>CCAFS LC-40</td>\n      <td>1</td>\n      <td>4600.00</td>\n      <td>F9 FT B1026</td>\n      <td>FT</td>\n    </tr>\n    <tr>\n      <th>26</th>\n      <td>26</td>\n      <td>6</td>\n      <td>VAFB SLC-4E</td>\n      <td>0</td>\n      <td>500.00</td>\n      <td>F9 v1.1  B1003</td>\n      <td>v1.1</td>\n    </tr>\n    <tr>\n      <th>27</th>\n      <td>27</td>\n      <td>21</td>\n      <td>VAFB SLC-4E</td>\n      <td>0</td>\n      <td>553.00</td>\n      <td>F9 v1.1 B1017</td>\n      <td>v1.1</td>\n    </tr>\n    <tr>\n      <th>28</th>\n      <td>28</td>\n      <td>29</td>\n      <td>VAFB SLC-4E</td>\n      <td>1</td>\n      <td>9600.00</td>\n      <td>F9 FT B1029.1</td>\n      <td>FT</td>\n    </tr>\n    <tr>\n      <th>29</th>\n      <td>29</td>\n      <td>37</td>\n      <td>VAFB SLC-4E</td>\n      <td>1</td>\n      <td>9600.00</td>\n      <td>F9 FT B1036.1</td>\n      <td>FT</td>\n    </tr>\n    <tr>\n      <th>30</th>\n      <td>30</td>\n      <td>40</td>\n      <td>VAFB SLC-4E</td>\n      <td>1</td>\n      <td>475.00</td>\n      <td>F9 FT B1038.1</td>\n      <td>FT</td>\n    </tr>\n    <tr>\n      <th>31</th>\n      <td>31</td>\n      <td>42</td>\n      <td>VAFB SLC-4E</td>\n      <td>1</td>\n      <td>9600.00</td>\n      <td>F9 B4 B1041.1</td>\n      <td>B4</td>\n    </tr>\n    <tr>\n      <th>32</th>\n      <td>32</td>\n      <td>46</td>\n      <td>VAFB SLC-4E</td>\n      <td>0</td>\n      <td>9600.00</td>\n      <td>F9 FT  B1036.2</td>\n      <td>FT</td>\n    </tr>\n    <tr>\n      <th>33</th>\n      <td>33</td>\n      <td>49</td>\n      <td>VAFB SLC-4E</td>\n      <td>0</td>\n      <td>2150.00</td>\n      <td>F9 FT  B1038.2</td>\n      <td>FT</td>\n    </tr>\n    <tr>\n      <th>34</th>\n      <td>34</td>\n      <td>51</td>\n      <td>VAFB SLC-4E</td>\n      <td>0</td>\n      <td>9600.00</td>\n      <td>F9 B4  B1041.2</td>\n      <td>B4</td>\n    </tr>\n    <tr>\n      <th>35</th>\n      <td>35</td>\n      <td>55</td>\n      <td>VAFB SLC-4E</td>\n      <td>0</td>\n      <td>6460.00</td>\n      <td>F9 B4  B1043.2</td>\n      <td>B4</td>\n    </tr>\n    <tr>\n      <th>36</th>\n      <td>36</td>\n      <td>30</td>\n      <td>KSC LC-39A</td>\n      <td>1</td>\n      <td>2490.00</td>\n      <td>F9 FT B1031.1</td>\n      <td>FT</td>\n    </tr>\n    <tr>\n      <th>37</th>\n      <td>37</td>\n      <td>31</td>\n      <td>KSC LC-39A</td>\n      <td>0</td>\n      <td>5600.00</td>\n      <td>F9 FT B1030</td>\n      <td>FT</td>\n    </tr>\n    <tr>\n      <th>38</th>\n      <td>38</td>\n      <td>32</td>\n      <td>KSC LC-39A</td>\n      <td>1</td>\n      <td>5300.00</td>\n      <td>F9 FT  B1021.2</td>\n      <td>FT</td>\n    </tr>\n    <tr>\n      <th>39</th>\n      <td>39</td>\n      <td>33</td>\n      <td>KSC LC-39A</td>\n      <td>1</td>\n      <td>3696.65</td>\n      <td>F9 FT B1032.1</td>\n      <td>FT</td>\n    </tr>\n    <tr>\n      <th>40</th>\n      <td>40</td>\n      <td>34</td>\n      <td>KSC LC-39A</td>\n      <td>0</td>\n      <td>6070.00</td>\n      <td>F9 FT B1034</td>\n      <td>FT</td>\n    </tr>\n    <tr>\n      <th>41</th>\n      <td>41</td>\n      <td>35</td>\n      <td>KSC LC-39A</td>\n      <td>1</td>\n      <td>2708.00</td>\n      <td>F9 FT B1035.1</td>\n      <td>FT</td>\n    </tr>\n    <tr>\n      <th>42</th>\n      <td>42</td>\n      <td>36</td>\n      <td>KSC LC-39A</td>\n      <td>1</td>\n      <td>3669.00</td>\n      <td>F9 FT  B1029.2</td>\n      <td>FT</td>\n    </tr>\n    <tr>\n      <th>43</th>\n      <td>43</td>\n      <td>38</td>\n      <td>KSC LC-39A</td>\n      <td>0</td>\n      <td>6761.00</td>\n      <td>F9 FT B1037</td>\n      <td>FT</td>\n    </tr>\n    <tr>\n      <th>44</th>\n      <td>44</td>\n      <td>39</td>\n      <td>KSC LC-39A</td>\n      <td>1</td>\n      <td>3310.00</td>\n      <td>F9 B4 B1039.1</td>\n      <td>B4</td>\n    </tr>\n    <tr>\n      <th>45</th>\n      <td>45</td>\n      <td>41</td>\n      <td>KSC LC-39A</td>\n      <td>1</td>\n      <td>4990.00</td>\n      <td>F9 B4 B1040.1</td>\n      <td>B4</td>\n    </tr>\n    <tr>\n      <th>46</th>\n      <td>46</td>\n      <td>43</td>\n      <td>KSC LC-39A</td>\n      <td>1</td>\n      <td>5200.00</td>\n      <td>F9 FT  B1031.2</td>\n      <td>FT</td>\n    </tr>\n    <tr>\n      <th>47</th>\n      <td>47</td>\n      <td>44</td>\n      <td>KSC LC-39A</td>\n      <td>1</td>\n      <td>3500.00</td>\n      <td>F9 B4 B1042.1</td>\n      <td>B4</td>\n    </tr>\n    <tr>\n      <th>48</th>\n      <td>48</td>\n      <td>54</td>\n      <td>KSC LC-39A</td>\n      <td>1</td>\n      <td>3600.00</td>\n      <td>F9 B5  B1046.1</td>\n      <td>B5</td>\n    </tr>\n    <tr>\n      <th>49</th>\n      <td>49</td>\n      <td>45</td>\n      <td>CCAFS SLC-40</td>\n      <td>1</td>\n      <td>2205.00</td>\n      <td>F9 FT  B1035.2</td>\n      <td>FT</td>\n    </tr>\n    <tr>\n      <th>50</th>\n      <td>50</td>\n      <td>47</td>\n      <td>CCAFS SLC-40</td>\n      <td>1</td>\n      <td>3696.65</td>\n      <td>F9 B4 B1043.1</td>\n      <td>B4</td>\n    </tr>\n    <tr>\n      <th>51</th>\n      <td>51</td>\n      <td>48</td>\n      <td>CCAFS SLC-40</td>\n      <td>0</td>\n      <td>4230.00</td>\n      <td>F9 FT  B1032.2</td>\n      <td>FT</td>\n    </tr>\n    <tr>\n      <th>52</th>\n      <td>52</td>\n      <td>50</td>\n      <td>CCAFS SLC-40</td>\n      <td>0</td>\n      <td>6092.00</td>\n      <td>F9 B4 B1044</td>\n      <td>B4</td>\n    </tr>\n    <tr>\n      <th>53</th>\n      <td>53</td>\n      <td>52</td>\n      <td>CCAFS SLC-40</td>\n      <td>0</td>\n      <td>2647.00</td>\n      <td>F9 B4  B1039.2</td>\n      <td>B4</td>\n    </tr>\n    <tr>\n      <th>54</th>\n      <td>54</td>\n      <td>53</td>\n      <td>CCAFS SLC-40</td>\n      <td>1</td>\n      <td>362.00</td>\n      <td>F9 B4 B1045.1</td>\n      <td>B4</td>\n    </tr>\n    <tr>\n      <th>55</th>\n      <td>55</td>\n      <td>56</td>\n      <td>CCAFS SLC-40</td>\n      <td>0</td>\n      <td>5384.00</td>\n      <td>F9 B4  B1040.2</td>\n      <td>B4</td>\n    </tr>\n  </tbody>\n</table>\n</div>"
     },
     "execution_count": 33,
     "metadata": {},
     "output_type": "execute_result"
    }
   ],
   "source": [
    "filtered_df=spacex_df[(spacex_df['Payload Mass (kg)']>=payload[0])  & (spacex_df['Payload Mass (kg)']<=payload[1])]\n",
    "filtered_df"
   ],
   "metadata": {
    "collapsed": false,
    "pycharm": {
     "name": "#%%\n"
    }
   }
  },
  {
   "cell_type": "code",
   "execution_count": 14,
   "outputs": [
    {
     "data": {
      "text/plain": "class\n0    32\n1    24\nName: class, dtype: int64"
     },
     "metadata": {},
     "output_type": "display_data"
    },
    {
     "data": {
      "text/plain": "class\n0    0.571429\n1    0.428571\nName: class, dtype: float64"
     },
     "metadata": {},
     "output_type": "display_data"
    },
    {
     "data": {
      "text/plain": "          class\nclass          \n0      0.571429\n1      0.428571",
      "text/html": "<div>\n<style scoped>\n    .dataframe tbody tr th:only-of-type {\n        vertical-align: middle;\n    }\n\n    .dataframe tbody tr th {\n        vertical-align: top;\n    }\n\n    .dataframe thead th {\n        text-align: right;\n    }\n</style>\n<table border=\"1\" class=\"dataframe\">\n  <thead>\n    <tr style=\"text-align: right;\">\n      <th></th>\n      <th>class</th>\n    </tr>\n    <tr>\n      <th>class</th>\n      <th></th>\n    </tr>\n  </thead>\n  <tbody>\n    <tr>\n      <th>0</th>\n      <td>0.571429</td>\n    </tr>\n    <tr>\n      <th>1</th>\n      <td>0.428571</td>\n    </tr>\n  </tbody>\n</table>\n</div>"
     },
     "metadata": {},
     "output_type": "display_data"
    }
   ],
   "source": [
    "success=filtered_df.groupby('class')['class'].count()\n",
    "display(success)\n",
    "data=filtered_df['class'].count()\n",
    "data2=success/data\n",
    "display(data2)\n",
    "# data = (filtered_df.groupby('class')['class'].count() / filtered_df['class'].count()).reset_index()\n",
    "# data\n",
    "display(data2.to_frame())"
   ],
   "metadata": {
    "collapsed": false,
    "pycharm": {
     "name": "#%%\n"
    }
   }
  },
  {
   "cell_type": "code",
   "execution_count": 16,
   "outputs": [
    {
     "data": {
      "text/plain": "    Launch Site     class\n0   CCAFS LC-40  0.269231\n1  CCAFS SLC-40  0.428571\n2    KSC LC-39A  0.769231\n3   VAFB SLC-4E  0.400000",
      "text/html": "<div>\n<style scoped>\n    .dataframe tbody tr th:only-of-type {\n        vertical-align: middle;\n    }\n\n    .dataframe tbody tr th {\n        vertical-align: top;\n    }\n\n    .dataframe thead th {\n        text-align: right;\n    }\n</style>\n<table border=\"1\" class=\"dataframe\">\n  <thead>\n    <tr style=\"text-align: right;\">\n      <th></th>\n      <th>Launch Site</th>\n      <th>class</th>\n    </tr>\n  </thead>\n  <tbody>\n    <tr>\n      <th>0</th>\n      <td>CCAFS LC-40</td>\n      <td>0.269231</td>\n    </tr>\n    <tr>\n      <th>1</th>\n      <td>CCAFS SLC-40</td>\n      <td>0.428571</td>\n    </tr>\n    <tr>\n      <th>2</th>\n      <td>KSC LC-39A</td>\n      <td>0.769231</td>\n    </tr>\n    <tr>\n      <th>3</th>\n      <td>VAFB SLC-4E</td>\n      <td>0.400000</td>\n    </tr>\n  </tbody>\n</table>\n</div>"
     },
     "execution_count": 16,
     "metadata": {},
     "output_type": "execute_result"
    }
   ],
   "source": [
    "data=(filtered_df.groupby('Launch Site')['class'].sum()/filtered_df.groupby('Launch Site')['class'].count()).reset_index()\n",
    "\n",
    "data"
   ],
   "metadata": {
    "collapsed": false,
    "pycharm": {
     "name": "#%%\n"
    }
   }
  },
  {
   "cell_type": "code",
   "execution_count": 17,
   "outputs": [
    {
     "data": {
      "text/plain": "    Launch Site     class\n0   CCAFS LC-40  0.269231\n1  CCAFS SLC-40  0.428571\n2    KSC LC-39A  0.769231\n3   VAFB SLC-4E  0.400000",
      "text/html": "<div>\n<style scoped>\n    .dataframe tbody tr th:only-of-type {\n        vertical-align: middle;\n    }\n\n    .dataframe tbody tr th {\n        vertical-align: top;\n    }\n\n    .dataframe thead th {\n        text-align: right;\n    }\n</style>\n<table border=\"1\" class=\"dataframe\">\n  <thead>\n    <tr style=\"text-align: right;\">\n      <th></th>\n      <th>Launch Site</th>\n      <th>class</th>\n    </tr>\n  </thead>\n  <tbody>\n    <tr>\n      <th>0</th>\n      <td>CCAFS LC-40</td>\n      <td>0.269231</td>\n    </tr>\n    <tr>\n      <th>1</th>\n      <td>CCAFS SLC-40</td>\n      <td>0.428571</td>\n    </tr>\n    <tr>\n      <th>2</th>\n      <td>KSC LC-39A</td>\n      <td>0.769231</td>\n    </tr>\n    <tr>\n      <th>3</th>\n      <td>VAFB SLC-4E</td>\n      <td>0.400000</td>\n    </tr>\n  </tbody>\n</table>\n</div>"
     },
     "execution_count": 17,
     "metadata": {},
     "output_type": "execute_result"
    }
   ],
   "source": [
    "data"
   ],
   "metadata": {
    "collapsed": false,
    "pycharm": {
     "name": "#%%\n"
    }
   }
  },
  {
   "cell_type": "code",
   "execution_count": 26,
   "outputs": [],
   "source": [
    "data = (filtered_df.groupby('class')['class'].count() / filtered_df['class'].count()).to_frame()\n",
    "data.rename(columns={'class': \"rate\"}, inplace=True)\n",
    "data.reset_index(inplace=True)"
   ],
   "metadata": {
    "collapsed": false,
    "pycharm": {
     "name": "#%%\n"
    }
   }
  },
  {
   "cell_type": "code",
   "execution_count": 27,
   "outputs": [
    {
     "data": {
      "text/plain": "   class      rate\n0      0  0.571429\n1      1  0.428571",
      "text/html": "<div>\n<style scoped>\n    .dataframe tbody tr th:only-of-type {\n        vertical-align: middle;\n    }\n\n    .dataframe tbody tr th {\n        vertical-align: top;\n    }\n\n    .dataframe thead th {\n        text-align: right;\n    }\n</style>\n<table border=\"1\" class=\"dataframe\">\n  <thead>\n    <tr style=\"text-align: right;\">\n      <th></th>\n      <th>class</th>\n      <th>rate</th>\n    </tr>\n  </thead>\n  <tbody>\n    <tr>\n      <th>0</th>\n      <td>0</td>\n      <td>0.571429</td>\n    </tr>\n    <tr>\n      <th>1</th>\n      <td>1</td>\n      <td>0.428571</td>\n    </tr>\n  </tbody>\n</table>\n</div>"
     },
     "execution_count": 27,
     "metadata": {},
     "output_type": "execute_result"
    }
   ],
   "source": [
    "data"
   ],
   "metadata": {
    "collapsed": false,
    "pycharm": {
     "name": "#%%\n"
    }
   }
  },
  {
   "cell_type": "code",
   "execution_count": null,
   "outputs": [],
   "source": [],
   "metadata": {
    "collapsed": false,
    "pycharm": {
     "name": "#%%\n"
    }
   }
  }
 ],
 "metadata": {
  "kernelspec": {
   "display_name": "Python 3",
   "language": "python",
   "name": "python3"
  },
  "language_info": {
   "codemirror_mode": {
    "name": "ipython",
    "version": 2
   },
   "file_extension": ".py",
   "mimetype": "text/x-python",
   "name": "python",
   "nbconvert_exporter": "python",
   "pygments_lexer": "ipython2",
   "version": "2.7.6"
  }
 },
 "nbformat": 4,
 "nbformat_minor": 0
}