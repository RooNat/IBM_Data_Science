{
 "cells": [
  {
   "cell_type": "markdown",
   "id": "9ad9c823-b9a3-4f6c-af52-be831e2e41ba",
   "metadata": {
    "pycharm": {
     "name": "#%% md\n"
    }
   },
   "outputs": [],
   "source": [
    "<center>\n",
    "    <img src=\"https://cf-courses-data.s3.us.cloud-object-storage.appdomain.cloud/assets/logos/SN_web_lightmode.png\" width=\"300\" alt=\"cognitiveclass.ai logo\">\n",
    "</center>\n",
    "\n",
    "# Simple APIs \n",
    "## Random User and Fruitvice API Examples\n",
    "\n",
    "\n",
    "Estimated time needed: **25** minutes\n",
    "\n",
    "## Objectives\n",
    "\n",
    "After completing this lab you will be able to:\n",
    "\n",
    "*   Load and use RandomUser API, using `RandomUser()` Python library\n",
    "*   Load and use Fruitvice API, using `requests` Python library\n",
    "\n"
   ]
  },
  {
   "cell_type": "markdown",
   "id": "66aa4e39-3e12-4626-897d-41c96167dabc",
   "metadata": {
    "pycharm": {
     "name": "#%% md\n"
    }
   },
   "outputs": [],
   "source": [
    "The purpose of this notebook is to provide more examples on how to use simple APIs. As you have already learned from previous videos and notebooks, API stands for Application Programming Interface and is a software intermediary that allows two applications to talk to each other. \n",
    "\n",
    "The advantages of using APIs:\n",
    " *   **Automation**. Less human effort is required and workflows can be easily updated to become faster and more      \n",
    "     productive.\n",
    " *   **Efficiency**. It allows to use the capabilities of one of the already developed APIs than to try to \n",
    "     independently implement some functionality from scratch.\n",
    " \n",
    "The disadvantage of using APIs:\n",
    " *   **Security**. If the API is poorly integrated, it means it will be vulnerable to attacks, resulting in data breeches or losses having financial or reputation implications.\n",
    "\n",
    "One of the applications we will use in this notebook is Random User Generator. RandomUser is an open-source, free API providing developers with randomly generated users to be used as placeholders for testing purposes. This makes the tool similar to Lorem Ipsum, but is a placeholder for people instead of text. The API can return multiple results, as well as specify generated user details such as gender, email, image, username, address, title, first and last name, and more. More information on [RandomUser](https://randomuser.me/documentation?utm_medium=Exinfluencer&utm_source=Exinfluencer&utm_content=000026UJ&utm_term=10006555&utm_id=NA-SkillsNetwork-Channel-SkillsNetworkCoursesIBMDeveloperSkillsNetworkPY0101ENSkillsNetwork1005-2023-01-01#intro) can be found here.\n",
    "\n",
    "Another example of simple API we will use in this notebook is Fruitvice application. The Fruitvice API webservice which provides data for all kinds of fruit! You can use Fruityvice to find out interesting information about fruit and educate yourself. The webservice is completely free to use and contribute to.\n"
   ]
  },
  {
   "cell_type": "markdown",
   "id": "1c4628bf-9966-4992-a408-42a1569fb1ba",
   "metadata": {
    "pycharm": {
     "name": "#%% md\n"
    }
   },
   "outputs": [],
   "source": [
    "## Example 1: RandomUser API\n",
    "Bellow are Get Methods parameters that we can generate. For more information on the parameters, please visit this [documentation](https://randomuser.me/documentation?utm_medium=Exinfluencer&utm_source=Exinfluencer&utm_content=000026UJ&utm_term=10006555&utm_id=NA-SkillsNetwork-Channel-SkillsNetworkCoursesIBMDeveloperSkillsNetworkPY0101ENSkillsNetwork1005-2023-01-01) page.\n"
   ]
  },
  {
   "cell_type": "markdown",
   "id": "7e7adbb0-7db2-4277-982d-3a76c5dadd89",
   "metadata": {
    "pycharm": {
     "name": "#%% md\n"
    }
   },
   "outputs": [],
   "source": [
    "## **Get Methods**\n",
    "\n",
    "- get_cell()\n",
    "- get_city()\n",
    "- get_dob()\n",
    "- get_email()\n",
    "- get_first_name()\n",
    "- get_full_name()\n",
    "- get_gender()\n",
    "- get_id()\n",
    "- get_id_number()\n",
    "- get_id_type()\n",
    "- get_info()\n",
    "- get_last_name()\n",
    "- get_login_md5()\n",
    "- get_login_salt()\n",
    "- get_login_sha1()\n",
    "- get_login_sha256()\n",
    "- get_nat()\n",
    "- get_password()\n",
    "- get_phone()\n",
    "- get_picture()\n",
    "- get_postcode()\n",
    "- get_registered()\n",
    "- get_state()\n",
    "- get_street()\n",
    "- get_username()\n",
    "- get_zipcode()\n"
   ]
  },
  {
   "cell_type": "markdown",
   "id": "93580913-0c11-4e09-a023-9da5273368e1",
   "metadata": {
    "pycharm": {
     "name": "#%% md\n"
    }
   },
   "outputs": [],
   "source": [
    "To start using the API you can install the `randomuser` library running the `pip install` command.\n"
   ]
  },
  {
   "cell_type": "code",
   "id": "26297994-e6c6-4ee2-9818-d587fad9d248",
   "metadata": {
    "pycharm": {
     "name": "#%%\n"
    }
   },
   "outputs": [
    {
     "name": "stdout",
     "output_type": "stream",
     "text": [
      "Requirement already satisfied: randomuser in /Users/yujiewang/anaconda3/lib/python3.9/site-packages (1.6)\r\n"
     ]
    }
   ],
   "source": [
    "!pip install randomuser"
   ],
   "execution_count": 2
  },
  {
   "cell_type": "markdown",
   "id": "cfe7ed18-ca18-4b3a-9fc0-fc9446b892f6",
   "metadata": {
    "pycharm": {
     "name": "#%% md\n"
    }
   },
   "outputs": [],
   "source": [
    "Then, we will load the necessary libraries.\n"
   ]
  },
  {
   "cell_type": "code",
   "id": "47dedcaf-14c5-4bc2-8dd8-7f7cb89acbca",
   "metadata": {
    "pycharm": {
     "name": "#%%\n"
    }
   },
   "outputs": [],
   "source": [
    "from randomuser import RandomUser\n",
    "import pandas as pd"
   ],
   "execution_count": 3
  },
  {
   "cell_type": "markdown",
   "id": "979dffc9-3ec0-4c80-8e13-ef76c889f5be",
   "metadata": {
    "pycharm": {
     "name": "#%% md\n"
    }
   },
   "outputs": [],
   "source": [
    "First, we will create a random user object, r.\n"
   ]
  },
  {
   "cell_type": "code",
   "id": "752a5963-3b4b-4395-8163-d321d77ededa",
   "metadata": {
    "pycharm": {
     "name": "#%%\n"
    }
   },
   "outputs": [],
   "source": [
    "r = RandomUser()"
   ],
   "execution_count": 4
  },
  {
   "cell_type": "markdown",
   "id": "feff4fcd-2edb-41a1-bf95-8aa0d35507bd",
   "metadata": {
    "pycharm": {
     "name": "#%% md\n"
    }
   },
   "outputs": [],
   "source": [
    "Then, using `generate_users()` function, we get a list of random 10 users.\n"
   ]
  },
  {
   "cell_type": "code",
   "id": "72c1c58b-eaf9-48ac-8e12-c186cc582c39",
   "metadata": {
    "pycharm": {
     "name": "#%%\n"
    }
   },
   "outputs": [],
   "source": [
    "some_list = r.generate_users(10)"
   ],
   "execution_count": 5
  },
  {
   "cell_type": "code",
   "id": "cf603cca-6b88-43f9-816e-aeff00d928ef",
   "metadata": {
    "pycharm": {
     "name": "#%%\n"
    }
   },
   "outputs": [
    {
     "data": {
      "text/plain": "[<randomuser.RandomUser at 0x12a272250>,\n <randomuser.RandomUser at 0x1059f6f40>,\n <randomuser.RandomUser at 0x106bef0a0>,\n <randomuser.RandomUser at 0x106bef100>,\n <randomuser.RandomUser at 0x106bdd850>,\n <randomuser.RandomUser at 0x106bdde50>,\n <randomuser.RandomUser at 0x106bdd970>,\n <randomuser.RandomUser at 0x106bdd9a0>,\n <randomuser.RandomUser at 0x106bdda60>,\n <randomuser.RandomUser at 0x106bddd30>]"
     },
     "execution_count": 6,
     "metadata": {},
     "output_type": "execute_result"
    }
   ],
   "source": [
    "some_list"
   ],
   "execution_count": 6
  },
  {
   "cell_type": "markdown",
   "id": "11cd00f6-5a48-4ddd-9f4e-a5ae8d6d335a",
   "metadata": {
    "pycharm": {
     "name": "#%% md\n"
    }
   },
   "outputs": [],
   "source": [
    "The **\"Get Methods\"** functions mentioned at the beginning of this notebook, can generate the required parameters to construct a dataset. For example, to get full name, we call `get_full_name()` function.\n"
   ]
  },
  {
   "cell_type": "code",
   "id": "a419472e-a813-450d-99ab-9fc77226fea0",
   "metadata": {
    "pycharm": {
     "name": "#%%\n"
    }
   },
   "outputs": [],
   "source": [
    "name = r.get_full_name()"
   ],
   "execution_count": 7
  },
  {
   "cell_type": "markdown",
   "id": "f66cde1e-83b2-4459-b5e9-31ed7e2f13c7",
   "metadata": {
    "pycharm": {
     "name": "#%% md\n"
    }
   },
   "outputs": [],
   "source": [
    "Let's say we only need 10 users with full names and their email addresses. We can write a \"for-loop\" to print these 10 users.\n"
   ]
  },
  {
   "cell_type": "code",
   "id": "83ec7de6-338e-42b2-a391-0fd4bf7688b9",
   "metadata": {
    "pycharm": {
     "name": "#%%\n"
    }
   },
   "outputs": [
    {
     "name": "stdout",
     "output_type": "stream",
     "text": [
      "Vedat Özbey   vedat.ozbey@example.com\n",
      "Ella Erkkila   ella.erkkila@example.com\n",
      "Aleksi Tikkanen   aleksi.tikkanen@example.com\n",
      "Ansgar Thomsen   ansgar.thomsen@example.com\n",
      "Ingolf Kipp   ingolf.kipp@example.com\n",
      "Oscar Olsen   oscar.olsen@example.com\n",
      "Cornelius Husebø   cornelius.husebo@example.com\n",
      "Tracy Myers   tracy.myers@example.com\n",
      "Dolores Lozano   dolores.lozano@example.com\n",
      "Angela Alonso   angela.alonso@example.com\n"
     ]
    }
   ],
   "source": [
    "for user in some_list:\n",
    "    print (user.get_full_name(),\" \",user.get_email())"
   ],
   "execution_count": 8
  },
  {
   "cell_type": "markdown",
   "id": "2f37bbd2-e511-4268-be38-d08835c55e6b",
   "metadata": {
    "pycharm": {
     "name": "#%% md\n"
    }
   },
   "outputs": [],
   "source": [
    "## Exercise 1\n",
    "In this Exercise, generate photos of the random 5 users.\n"
   ]
  },
  {
   "cell_type": "code",
   "id": "0847be7c-2dcf-4305-af98-c8c1041da574",
   "metadata": {
    "pycharm": {
     "name": "#%%\n"
    }
   },
   "outputs": [
    {
     "name": "stdout",
     "output_type": "stream",
     "text": [
      "https://randomuser.me/api/portraits/men/62.jpg\n",
      "https://randomuser.me/api/portraits/women/31.jpg\n",
      "https://randomuser.me/api/portraits/men/65.jpg\n",
      "https://randomuser.me/api/portraits/men/64.jpg\n",
      "https://randomuser.me/api/portraits/men/46.jpg\n",
      "https://randomuser.me/api/portraits/men/60.jpg\n",
      "https://randomuser.me/api/portraits/men/72.jpg\n",
      "https://randomuser.me/api/portraits/women/49.jpg\n",
      "https://randomuser.me/api/portraits/women/84.jpg\n",
      "https://randomuser.me/api/portraits/women/7.jpg\n"
     ]
    }
   ],
   "source": [
    "## Write your code here\n",
    "for user in some_list:\n",
    "    print(user.get_picture())"
   ],
   "execution_count": 9
  },
  {
   "cell_type": "markdown",
   "id": "d4b481a9-7a00-49bb-a648-bd4f62e3bd22",
   "metadata": {
    "pycharm": {
     "name": "#%% md\n"
    }
   },
   "outputs": [],
   "source": [
    "<details><summary>Click here for the solution</summary>\n",
    "\n",
    "```python\n",
    "for user in some_list:\n",
    "    print (user.get_picture())\n",
    "```\n",
    "\n",
    "</details>\n"
   ]
  },
  {
   "cell_type": "markdown",
   "id": "0fa99f7b-c09a-429e-896c-88ebebc4a937",
   "metadata": {
    "pycharm": {
     "name": "#%% md\n"
    }
   },
   "outputs": [],
   "source": [
    "To generate a table with information about the users, we can write a function containing all desirable parameters. For example, name, gender, city, etc. The parameters will depend on the requirements of the test to be performed. We call the Get Methods, listed at the beginning of this notebook. Then, we return pandas dataframe with the users.\n"
   ]
  },
  {
   "cell_type": "code",
   "id": "c18cf254-e704-4cb7-80d4-0418324036ca",
   "metadata": {
    "pycharm": {
     "name": "#%%\n"
    }
   },
   "outputs": [],
   "source": [
    "def get_users():\n",
    "    users =[]\n",
    "     \n",
    "    for user in RandomUser.generate_users(10):\n",
    "        users.append({\"Name\":user.get_full_name(),\"Gender\":user.get_gender(),\"City\":user.get_city(),\"State\":user.get_state(),\"Email\":user.get_email(), \"DOB\":user.get_dob(),\"Picture\":user.get_picture()})\n",
    "      \n",
    "    return pd.DataFrame(users)     "
   ],
   "execution_count": 10
  },
  {
   "cell_type": "code",
   "id": "ccde163b-bbf5-4fbb-8f88-6dbdbf0cd657",
   "metadata": {
    "pycharm": {
     "name": "#%%\n"
    }
   },
   "outputs": [
    {
     "data": {
      "text/plain": "               Name  Gender               City            State   \n0    Arnaud Ginnish    male            Belmont     Saskatchewan  \\\n1   Murilo da Cunha    male            Caruaru            Goiás   \n2      Onni Huhtala    male            Mikkeli        Satakunta   \n3   Clémence Leroux  female    Aix-En-Provence           Vendée   \n4  Corentin Olivier    male   Aulnay-sous-Bois           Lozère   \n5   Sanne Magnusson  female           Bangsund         Rogaland   \n6      Ismael Nieto    male  Alcalá de Henares         La Rioja   \n7     Ralph Griffin    male         Sunderland  Nottinghamshire   \n8   Brayen Van Hees    male               Deil     Zuid-Holland   \n9        Oya Özkara  female             Bitlis        Kırıkkale   \n\n                          Email                       DOB   \n0    arnaud.ginnish@example.com  1994-12-19T05:25:30.421Z  \\\n1    murilo.dacunha@example.com  1968-01-17T17:46:30.366Z   \n2      onni.huhtala@example.com  1994-10-13T02:48:49.854Z   \n3   clemence.leroux@example.com  1994-02-14T17:24:38.052Z   \n4  corentin.olivier@example.com  1953-07-12T21:15:05.813Z   \n5   sanne.magnusson@example.com  1978-02-21T23:12:01.389Z   \n6      ismael.nieto@example.com  1982-02-27T06:14:57.382Z   \n7     ralph.griffin@example.com  1997-10-29T12:47:07.285Z   \n8    brayen.vanhees@example.com  1960-06-05T13:07:03.902Z   \n9        oya.ozkara@example.com  1983-12-08T04:31:57.330Z   \n\n                                            Picture  \n0    https://randomuser.me/api/portraits/men/92.jpg  \n1    https://randomuser.me/api/portraits/men/52.jpg  \n2    https://randomuser.me/api/portraits/men/26.jpg  \n3  https://randomuser.me/api/portraits/women/86.jpg  \n4    https://randomuser.me/api/portraits/men/92.jpg  \n5  https://randomuser.me/api/portraits/women/12.jpg  \n6    https://randomuser.me/api/portraits/men/17.jpg  \n7    https://randomuser.me/api/portraits/men/12.jpg  \n8    https://randomuser.me/api/portraits/men/90.jpg  \n9  https://randomuser.me/api/portraits/women/28.jpg  ",
      "text/html": "<div>\n<style scoped>\n    .dataframe tbody tr th:only-of-type {\n        vertical-align: middle;\n    }\n\n    .dataframe tbody tr th {\n        vertical-align: top;\n    }\n\n    .dataframe thead th {\n        text-align: right;\n    }\n</style>\n<table border=\"1\" class=\"dataframe\">\n  <thead>\n    <tr style=\"text-align: right;\">\n      <th></th>\n      <th>Name</th>\n      <th>Gender</th>\n      <th>City</th>\n      <th>State</th>\n      <th>Email</th>\n      <th>DOB</th>\n      <th>Picture</th>\n    </tr>\n  </thead>\n  <tbody>\n    <tr>\n      <th>0</th>\n      <td>Arnaud Ginnish</td>\n      <td>male</td>\n      <td>Belmont</td>\n      <td>Saskatchewan</td>\n      <td>arnaud.ginnish@example.com</td>\n      <td>1994-12-19T05:25:30.421Z</td>\n      <td>https://randomuser.me/api/portraits/men/92.jpg</td>\n    </tr>\n    <tr>\n      <th>1</th>\n      <td>Murilo da Cunha</td>\n      <td>male</td>\n      <td>Caruaru</td>\n      <td>Goiás</td>\n      <td>murilo.dacunha@example.com</td>\n      <td>1968-01-17T17:46:30.366Z</td>\n      <td>https://randomuser.me/api/portraits/men/52.jpg</td>\n    </tr>\n    <tr>\n      <th>2</th>\n      <td>Onni Huhtala</td>\n      <td>male</td>\n      <td>Mikkeli</td>\n      <td>Satakunta</td>\n      <td>onni.huhtala@example.com</td>\n      <td>1994-10-13T02:48:49.854Z</td>\n      <td>https://randomuser.me/api/portraits/men/26.jpg</td>\n    </tr>\n    <tr>\n      <th>3</th>\n      <td>Clémence Leroux</td>\n      <td>female</td>\n      <td>Aix-En-Provence</td>\n      <td>Vendée</td>\n      <td>clemence.leroux@example.com</td>\n      <td>1994-02-14T17:24:38.052Z</td>\n      <td>https://randomuser.me/api/portraits/women/86.jpg</td>\n    </tr>\n    <tr>\n      <th>4</th>\n      <td>Corentin Olivier</td>\n      <td>male</td>\n      <td>Aulnay-sous-Bois</td>\n      <td>Lozère</td>\n      <td>corentin.olivier@example.com</td>\n      <td>1953-07-12T21:15:05.813Z</td>\n      <td>https://randomuser.me/api/portraits/men/92.jpg</td>\n    </tr>\n    <tr>\n      <th>5</th>\n      <td>Sanne Magnusson</td>\n      <td>female</td>\n      <td>Bangsund</td>\n      <td>Rogaland</td>\n      <td>sanne.magnusson@example.com</td>\n      <td>1978-02-21T23:12:01.389Z</td>\n      <td>https://randomuser.me/api/portraits/women/12.jpg</td>\n    </tr>\n    <tr>\n      <th>6</th>\n      <td>Ismael Nieto</td>\n      <td>male</td>\n      <td>Alcalá de Henares</td>\n      <td>La Rioja</td>\n      <td>ismael.nieto@example.com</td>\n      <td>1982-02-27T06:14:57.382Z</td>\n      <td>https://randomuser.me/api/portraits/men/17.jpg</td>\n    </tr>\n    <tr>\n      <th>7</th>\n      <td>Ralph Griffin</td>\n      <td>male</td>\n      <td>Sunderland</td>\n      <td>Nottinghamshire</td>\n      <td>ralph.griffin@example.com</td>\n      <td>1997-10-29T12:47:07.285Z</td>\n      <td>https://randomuser.me/api/portraits/men/12.jpg</td>\n    </tr>\n    <tr>\n      <th>8</th>\n      <td>Brayen Van Hees</td>\n      <td>male</td>\n      <td>Deil</td>\n      <td>Zuid-Holland</td>\n      <td>brayen.vanhees@example.com</td>\n      <td>1960-06-05T13:07:03.902Z</td>\n      <td>https://randomuser.me/api/portraits/men/90.jpg</td>\n    </tr>\n    <tr>\n      <th>9</th>\n      <td>Oya Özkara</td>\n      <td>female</td>\n      <td>Bitlis</td>\n      <td>Kırıkkale</td>\n      <td>oya.ozkara@example.com</td>\n      <td>1983-12-08T04:31:57.330Z</td>\n      <td>https://randomuser.me/api/portraits/women/28.jpg</td>\n    </tr>\n  </tbody>\n</table>\n</div>"
     },
     "execution_count": 11,
     "metadata": {},
     "output_type": "execute_result"
    }
   ],
   "source": [
    "get_users()"
   ],
   "execution_count": 11
  },
  {
   "cell_type": "code",
   "id": "faf34c57-bd02-4e79-aeeb-91c0e27a87e1",
   "metadata": {
    "pycharm": {
     "name": "#%%\n"
    }
   },
   "outputs": [],
   "source": [
    "df1 = pd.DataFrame(get_users())  "
   ],
   "execution_count": 12
  },
  {
   "cell_type": "markdown",
   "id": "40ced25b-d021-432e-8356-1ba006b50845",
   "metadata": {
    "pycharm": {
     "name": "#%% md\n"
    }
   },
   "outputs": [],
   "source": [
    "Now we have a *pandas* dataframe that can be used for any testing purposes that the tester might have.\n"
   ]
  },
  {
   "cell_type": "markdown",
   "id": "13fa45ff-8088-4ba5-bb39-4c44112191a8",
   "metadata": {
    "pycharm": {
     "name": "#%% md\n"
    }
   },
   "outputs": [],
   "source": [
    "## Example 2: Fruitvice API\n",
    "\n",
    "Another, more common way to use APIs, is through `requests` library. The next lab, Requests and HTTP, will contain more information about requests.\n",
    "\n",
    "We will start by importing all required libraries.\n"
   ]
  },
  {
   "cell_type": "code",
   "id": "d9956514-3446-4639-8e23-c2622fea20f8",
   "metadata": {
    "pycharm": {
     "name": "#%%\n"
    }
   },
   "outputs": [],
   "source": [
    "import requests\n",
    "import json"
   ],
   "execution_count": 13
  },
  {
   "cell_type": "markdown",
   "id": "950bbf94-a2ab-4ead-a825-300ebe08eb84",
   "metadata": {
    "pycharm": {
     "name": "#%% md\n"
    }
   },
   "outputs": [],
   "source": [
    "We will obtain the [fruitvice](https://www.fruityvice.com/?utm_medium=Exinfluencer&utm_source=Exinfluencer&utm_content=000026UJ&utm_term=10006555&utm_id=NA-SkillsNetwork-Channel-SkillsNetworkCoursesIBMDeveloperSkillsNetworkPY0101ENSkillsNetwork1005-2023-01-01) API data using `requests.get(\"url\")` function. The data is in a json format.\n"
   ]
  },
  {
   "cell_type": "code",
   "id": "e9c024e4-2893-4e51-8980-3b89422c66af",
   "metadata": {
    "pycharm": {
     "name": "#%%\n"
    }
   },
   "outputs": [],
   "source": [
    "data = requests.get(\"https://fruityvice.com/api/fruit/all\")"
   ],
   "execution_count": 14
  },
  {
   "cell_type": "markdown",
   "id": "c109540c-8fab-4910-8265-b1302296ffa5",
   "metadata": {
    "pycharm": {
     "name": "#%% md\n"
    }
   },
   "outputs": [],
   "source": [
    "We will retrieve results using `json.loads()` function.\n"
   ]
  },
  {
   "cell_type": "code",
   "id": "ebd2663b-3815-49b6-8d2b-541c2a67c112",
   "metadata": {
    "pycharm": {
     "name": "#%%\n"
    }
   },
   "outputs": [],
   "source": [
    "results = json.loads(data.text)"
   ],
   "execution_count": 15
  },
  {
   "cell_type": "markdown",
   "id": "3c5284e3-f232-4062-bcf2-0dedfccd82d9",
   "metadata": {
    "pycharm": {
     "name": "#%% md\n"
    }
   },
   "outputs": [],
   "source": [
    "We will convert our json data into *pandas* data frame. \n"
   ]
  },
  {
   "cell_type": "code",
   "id": "1a3e82d2-865c-4d94-a00c-99e84c307743",
   "metadata": {
    "pycharm": {
     "name": "#%%\n"
    }
   },
   "outputs": [
    {
     "data": {
      "text/plain": "            name  id           family             order         genus   \n0      Persimmon  52        Ebenaceae           Rosales     Diospyros  \\\n1     Strawberry   3         Rosaceae           Rosales      Fragaria   \n2         Banana   1         Musaceae      Zingiberales          Musa   \n3         Tomato   5       Solanaceae         Solanales       Solanum   \n4           Pear   4         Rosaceae           Rosales         Pyrus   \n5         Durian  60        Malvaceae          Malvales         Durio   \n6     Blackberry  64         Rosaceae           Rosales         Rubus   \n7    Lingonberry  65        Ericaceae          Ericales     Vaccinium   \n8           Kiwi  66    Actinidiaceae  Struthioniformes       Apteryx   \n9         Lychee  67      Sapindaceae        Sapindales        Litchi   \n10     Pineapple  10     Bromeliaceae            Poales        Ananas   \n11           Fig  68         Moraceae           Rosales         Ficus   \n12    Gooseberry  69  Grossulariaceae      Saxifragales         Ribes   \n13  Passionfruit  70   Passifloraceae      Malpighiales    Passiflora   \n14          Plum  71         Rosaceae           Rosales        Prunus   \n15        Orange   2         Rutaceae        Sapindales        Citrus   \n16    GreenApple  72         Rosaceae           Rosales         Malus   \n17     Raspberry  23         Rosaceae           Rosales         Rubus   \n18    Watermelon  25    Cucurbitaceae      Cucurbitales     Citrullus   \n19         Lemon  26         Rutaceae        Sapindales        Citrus   \n20         Mango  27    Anacardiaceae        Sapindales     Mangifera   \n21     Blueberry  33         Rosaceae           Rosales      Fragaria   \n22         Apple   6         Rosaceae           Rosales         Malus   \n23         Guava  37        Myrtaceae          Myrtales       Psidium   \n24       Apricot  35         Rosaceae           Rosales        Prunus   \n25        Papaya  42       Caricaceae         Caricacea        Carica   \n26         Melon  41    Cucurbitaceae     Cucurbitaceae       Cucumis   \n27     Tangerine  77         Rutaceae        Sapindales        Citrus   \n28      Pitahaya  78        Cactaceae    Caryophyllales     Cactaceae   \n29          Lime  44         Rutaceae        Sapindales        Citrus   \n30   Pomegranate  79       Lythraceae          Myrtales        Punica   \n31   Dragonfruit  80        Cactaceae    Caryophyllales  Selenicereus   \n32         Grape  81         Vitaceae           Vitales         Vitis   \n33         Morus  82         Moraceae           Rosales         Morus   \n34        Feijoa  76        Myrtaceae        Myrtoideae    Sellowiana   \n35       Avocado  84        Lauraceae          Laurales        Persea   \n36     Kiwifruit  85    Actinidiaceae          Ericales     Actinidia   \n37     Cranberry  87        Ericaceae          Ericales     Vaccinium   \n38        Cherry   9         Rosaceae           Rosales        Prunus   \n39         Peach  86         Rosaceae           Rosales        Prunus   \n40     Jackfruit  94         Moraceae           Rosales    Artocarpus   \n41  Horned Melon  95    Cucurbitaceae      Cucurbitales       Cucumis   \n\n                                           nutritions  \n0   {'calories': 81, 'fat': 0.0, 'sugar': 18.0, 'c...  \n1   {'calories': 29, 'fat': 0.4, 'sugar': 5.4, 'ca...  \n2   {'calories': 96, 'fat': 0.2, 'sugar': 17.2, 'c...  \n3   {'calories': 74, 'fat': 0.2, 'sugar': 2.6, 'ca...  \n4   {'calories': 57, 'fat': 0.1, 'sugar': 10.0, 'c...  \n5   {'calories': 147, 'fat': 5.3, 'sugar': 6.75, '...  \n6   {'calories': 40, 'fat': 0.4, 'sugar': 4.5, 'ca...  \n7   {'calories': 50, 'fat': 0.34, 'sugar': 5.74, '...  \n8   {'calories': 61, 'fat': 0.5, 'sugar': 9.0, 'ca...  \n9   {'calories': 66, 'fat': 0.44, 'sugar': 15.0, '...  \n10  {'calories': 50, 'fat': 0.12, 'sugar': 9.85, '...  \n11  {'calories': 74, 'fat': 0.3, 'sugar': 16.0, 'c...  \n12  {'calories': 44, 'fat': 0.6, 'sugar': 0.0, 'ca...  \n13  {'calories': 97, 'fat': 0.7, 'sugar': 11.2, 'c...  \n14  {'calories': 46, 'fat': 0.28, 'sugar': 9.92, '...  \n15  {'calories': 43, 'fat': 0.2, 'sugar': 8.2, 'ca...  \n16  {'calories': 21, 'fat': 0.1, 'sugar': 6.4, 'ca...  \n17  {'calories': 53, 'fat': 0.7, 'sugar': 4.4, 'ca...  \n18  {'calories': 30, 'fat': 0.2, 'sugar': 6.0, 'ca...  \n19  {'calories': 29, 'fat': 0.3, 'sugar': 2.5, 'ca...  \n20  {'calories': 60, 'fat': 0.38, 'sugar': 13.7, '...  \n21  {'calories': 29, 'fat': 0.4, 'sugar': 5.4, 'ca...  \n22  {'calories': 52, 'fat': 0.4, 'sugar': 10.3, 'c...  \n23  {'calories': 68, 'fat': 1.0, 'sugar': 9.0, 'ca...  \n24  {'calories': 15, 'fat': 0.1, 'sugar': 3.2, 'ca...  \n25  {'calories': 43, 'fat': 0.4, 'sugar': 1.0, 'ca...  \n26  {'calories': 34, 'fat': 0.0, 'sugar': 8.0, 'ca...  \n27  {'calories': 45, 'fat': 0.4, 'sugar': 9.1, 'ca...  \n28  {'calories': 36, 'fat': 0.4, 'sugar': 3.0, 'ca...  \n29  {'calories': 25, 'fat': 0.1, 'sugar': 1.7, 'ca...  \n30  {'calories': 83, 'fat': 1.2, 'sugar': 13.7, 'c...  \n31  {'calories': 60, 'fat': 1.5, 'sugar': 8.0, 'ca...  \n32  {'calories': 69, 'fat': 0.16, 'sugar': 16.0, '...  \n33  {'calories': 43, 'fat': 0.39, 'sugar': 8.1, 'c...  \n34  {'calories': 44, 'fat': 0.4, 'sugar': 3.0, 'ca...  \n35  {'calories': 160, 'fat': 14.66, 'sugar': 0.66,...  \n36  {'calories': 61, 'fat': 0.5, 'sugar': 8.9, 'ca...  \n37  {'calories': 46, 'fat': 0.1, 'sugar': 4.0, 'ca...  \n38  {'calories': 50, 'fat': 0.3, 'sugar': 8.0, 'ca...  \n39  {'calories': 39, 'fat': 0.25, 'sugar': 8.4, 'c...  \n40  {'calories': 95, 'fat': 0.0, 'sugar': 19.1, 'c...  \n41  {'calories': 44, 'fat': 1.26, 'sugar': 0.5, 'c...  ",
      "text/html": "<div>\n<style scoped>\n    .dataframe tbody tr th:only-of-type {\n        vertical-align: middle;\n    }\n\n    .dataframe tbody tr th {\n        vertical-align: top;\n    }\n\n    .dataframe thead th {\n        text-align: right;\n    }\n</style>\n<table border=\"1\" class=\"dataframe\">\n  <thead>\n    <tr style=\"text-align: right;\">\n      <th></th>\n      <th>name</th>\n      <th>id</th>\n      <th>family</th>\n      <th>order</th>\n      <th>genus</th>\n      <th>nutritions</th>\n    </tr>\n  </thead>\n  <tbody>\n    <tr>\n      <th>0</th>\n      <td>Persimmon</td>\n      <td>52</td>\n      <td>Ebenaceae</td>\n      <td>Rosales</td>\n      <td>Diospyros</td>\n      <td>{'calories': 81, 'fat': 0.0, 'sugar': 18.0, 'c...</td>\n    </tr>\n    <tr>\n      <th>1</th>\n      <td>Strawberry</td>\n      <td>3</td>\n      <td>Rosaceae</td>\n      <td>Rosales</td>\n      <td>Fragaria</td>\n      <td>{'calories': 29, 'fat': 0.4, 'sugar': 5.4, 'ca...</td>\n    </tr>\n    <tr>\n      <th>2</th>\n      <td>Banana</td>\n      <td>1</td>\n      <td>Musaceae</td>\n      <td>Zingiberales</td>\n      <td>Musa</td>\n      <td>{'calories': 96, 'fat': 0.2, 'sugar': 17.2, 'c...</td>\n    </tr>\n    <tr>\n      <th>3</th>\n      <td>Tomato</td>\n      <td>5</td>\n      <td>Solanaceae</td>\n      <td>Solanales</td>\n      <td>Solanum</td>\n      <td>{'calories': 74, 'fat': 0.2, 'sugar': 2.6, 'ca...</td>\n    </tr>\n    <tr>\n      <th>4</th>\n      <td>Pear</td>\n      <td>4</td>\n      <td>Rosaceae</td>\n      <td>Rosales</td>\n      <td>Pyrus</td>\n      <td>{'calories': 57, 'fat': 0.1, 'sugar': 10.0, 'c...</td>\n    </tr>\n    <tr>\n      <th>5</th>\n      <td>Durian</td>\n      <td>60</td>\n      <td>Malvaceae</td>\n      <td>Malvales</td>\n      <td>Durio</td>\n      <td>{'calories': 147, 'fat': 5.3, 'sugar': 6.75, '...</td>\n    </tr>\n    <tr>\n      <th>6</th>\n      <td>Blackberry</td>\n      <td>64</td>\n      <td>Rosaceae</td>\n      <td>Rosales</td>\n      <td>Rubus</td>\n      <td>{'calories': 40, 'fat': 0.4, 'sugar': 4.5, 'ca...</td>\n    </tr>\n    <tr>\n      <th>7</th>\n      <td>Lingonberry</td>\n      <td>65</td>\n      <td>Ericaceae</td>\n      <td>Ericales</td>\n      <td>Vaccinium</td>\n      <td>{'calories': 50, 'fat': 0.34, 'sugar': 5.74, '...</td>\n    </tr>\n    <tr>\n      <th>8</th>\n      <td>Kiwi</td>\n      <td>66</td>\n      <td>Actinidiaceae</td>\n      <td>Struthioniformes</td>\n      <td>Apteryx</td>\n      <td>{'calories': 61, 'fat': 0.5, 'sugar': 9.0, 'ca...</td>\n    </tr>\n    <tr>\n      <th>9</th>\n      <td>Lychee</td>\n      <td>67</td>\n      <td>Sapindaceae</td>\n      <td>Sapindales</td>\n      <td>Litchi</td>\n      <td>{'calories': 66, 'fat': 0.44, 'sugar': 15.0, '...</td>\n    </tr>\n    <tr>\n      <th>10</th>\n      <td>Pineapple</td>\n      <td>10</td>\n      <td>Bromeliaceae</td>\n      <td>Poales</td>\n      <td>Ananas</td>\n      <td>{'calories': 50, 'fat': 0.12, 'sugar': 9.85, '...</td>\n    </tr>\n    <tr>\n      <th>11</th>\n      <td>Fig</td>\n      <td>68</td>\n      <td>Moraceae</td>\n      <td>Rosales</td>\n      <td>Ficus</td>\n      <td>{'calories': 74, 'fat': 0.3, 'sugar': 16.0, 'c...</td>\n    </tr>\n    <tr>\n      <th>12</th>\n      <td>Gooseberry</td>\n      <td>69</td>\n      <td>Grossulariaceae</td>\n      <td>Saxifragales</td>\n      <td>Ribes</td>\n      <td>{'calories': 44, 'fat': 0.6, 'sugar': 0.0, 'ca...</td>\n    </tr>\n    <tr>\n      <th>13</th>\n      <td>Passionfruit</td>\n      <td>70</td>\n      <td>Passifloraceae</td>\n      <td>Malpighiales</td>\n      <td>Passiflora</td>\n      <td>{'calories': 97, 'fat': 0.7, 'sugar': 11.2, 'c...</td>\n    </tr>\n    <tr>\n      <th>14</th>\n      <td>Plum</td>\n      <td>71</td>\n      <td>Rosaceae</td>\n      <td>Rosales</td>\n      <td>Prunus</td>\n      <td>{'calories': 46, 'fat': 0.28, 'sugar': 9.92, '...</td>\n    </tr>\n    <tr>\n      <th>15</th>\n      <td>Orange</td>\n      <td>2</td>\n      <td>Rutaceae</td>\n      <td>Sapindales</td>\n      <td>Citrus</td>\n      <td>{'calories': 43, 'fat': 0.2, 'sugar': 8.2, 'ca...</td>\n    </tr>\n    <tr>\n      <th>16</th>\n      <td>GreenApple</td>\n      <td>72</td>\n      <td>Rosaceae</td>\n      <td>Rosales</td>\n      <td>Malus</td>\n      <td>{'calories': 21, 'fat': 0.1, 'sugar': 6.4, 'ca...</td>\n    </tr>\n    <tr>\n      <th>17</th>\n      <td>Raspberry</td>\n      <td>23</td>\n      <td>Rosaceae</td>\n      <td>Rosales</td>\n      <td>Rubus</td>\n      <td>{'calories': 53, 'fat': 0.7, 'sugar': 4.4, 'ca...</td>\n    </tr>\n    <tr>\n      <th>18</th>\n      <td>Watermelon</td>\n      <td>25</td>\n      <td>Cucurbitaceae</td>\n      <td>Cucurbitales</td>\n      <td>Citrullus</td>\n      <td>{'calories': 30, 'fat': 0.2, 'sugar': 6.0, 'ca...</td>\n    </tr>\n    <tr>\n      <th>19</th>\n      <td>Lemon</td>\n      <td>26</td>\n      <td>Rutaceae</td>\n      <td>Sapindales</td>\n      <td>Citrus</td>\n      <td>{'calories': 29, 'fat': 0.3, 'sugar': 2.5, 'ca...</td>\n    </tr>\n    <tr>\n      <th>20</th>\n      <td>Mango</td>\n      <td>27</td>\n      <td>Anacardiaceae</td>\n      <td>Sapindales</td>\n      <td>Mangifera</td>\n      <td>{'calories': 60, 'fat': 0.38, 'sugar': 13.7, '...</td>\n    </tr>\n    <tr>\n      <th>21</th>\n      <td>Blueberry</td>\n      <td>33</td>\n      <td>Rosaceae</td>\n      <td>Rosales</td>\n      <td>Fragaria</td>\n      <td>{'calories': 29, 'fat': 0.4, 'sugar': 5.4, 'ca...</td>\n    </tr>\n    <tr>\n      <th>22</th>\n      <td>Apple</td>\n      <td>6</td>\n      <td>Rosaceae</td>\n      <td>Rosales</td>\n      <td>Malus</td>\n      <td>{'calories': 52, 'fat': 0.4, 'sugar': 10.3, 'c...</td>\n    </tr>\n    <tr>\n      <th>23</th>\n      <td>Guava</td>\n      <td>37</td>\n      <td>Myrtaceae</td>\n      <td>Myrtales</td>\n      <td>Psidium</td>\n      <td>{'calories': 68, 'fat': 1.0, 'sugar': 9.0, 'ca...</td>\n    </tr>\n    <tr>\n      <th>24</th>\n      <td>Apricot</td>\n      <td>35</td>\n      <td>Rosaceae</td>\n      <td>Rosales</td>\n      <td>Prunus</td>\n      <td>{'calories': 15, 'fat': 0.1, 'sugar': 3.2, 'ca...</td>\n    </tr>\n    <tr>\n      <th>25</th>\n      <td>Papaya</td>\n      <td>42</td>\n      <td>Caricaceae</td>\n      <td>Caricacea</td>\n      <td>Carica</td>\n      <td>{'calories': 43, 'fat': 0.4, 'sugar': 1.0, 'ca...</td>\n    </tr>\n    <tr>\n      <th>26</th>\n      <td>Melon</td>\n      <td>41</td>\n      <td>Cucurbitaceae</td>\n      <td>Cucurbitaceae</td>\n      <td>Cucumis</td>\n      <td>{'calories': 34, 'fat': 0.0, 'sugar': 8.0, 'ca...</td>\n    </tr>\n    <tr>\n      <th>27</th>\n      <td>Tangerine</td>\n      <td>77</td>\n      <td>Rutaceae</td>\n      <td>Sapindales</td>\n      <td>Citrus</td>\n      <td>{'calories': 45, 'fat': 0.4, 'sugar': 9.1, 'ca...</td>\n    </tr>\n    <tr>\n      <th>28</th>\n      <td>Pitahaya</td>\n      <td>78</td>\n      <td>Cactaceae</td>\n      <td>Caryophyllales</td>\n      <td>Cactaceae</td>\n      <td>{'calories': 36, 'fat': 0.4, 'sugar': 3.0, 'ca...</td>\n    </tr>\n    <tr>\n      <th>29</th>\n      <td>Lime</td>\n      <td>44</td>\n      <td>Rutaceae</td>\n      <td>Sapindales</td>\n      <td>Citrus</td>\n      <td>{'calories': 25, 'fat': 0.1, 'sugar': 1.7, 'ca...</td>\n    </tr>\n    <tr>\n      <th>30</th>\n      <td>Pomegranate</td>\n      <td>79</td>\n      <td>Lythraceae</td>\n      <td>Myrtales</td>\n      <td>Punica</td>\n      <td>{'calories': 83, 'fat': 1.2, 'sugar': 13.7, 'c...</td>\n    </tr>\n    <tr>\n      <th>31</th>\n      <td>Dragonfruit</td>\n      <td>80</td>\n      <td>Cactaceae</td>\n      <td>Caryophyllales</td>\n      <td>Selenicereus</td>\n      <td>{'calories': 60, 'fat': 1.5, 'sugar': 8.0, 'ca...</td>\n    </tr>\n    <tr>\n      <th>32</th>\n      <td>Grape</td>\n      <td>81</td>\n      <td>Vitaceae</td>\n      <td>Vitales</td>\n      <td>Vitis</td>\n      <td>{'calories': 69, 'fat': 0.16, 'sugar': 16.0, '...</td>\n    </tr>\n    <tr>\n      <th>33</th>\n      <td>Morus</td>\n      <td>82</td>\n      <td>Moraceae</td>\n      <td>Rosales</td>\n      <td>Morus</td>\n      <td>{'calories': 43, 'fat': 0.39, 'sugar': 8.1, 'c...</td>\n    </tr>\n    <tr>\n      <th>34</th>\n      <td>Feijoa</td>\n      <td>76</td>\n      <td>Myrtaceae</td>\n      <td>Myrtoideae</td>\n      <td>Sellowiana</td>\n      <td>{'calories': 44, 'fat': 0.4, 'sugar': 3.0, 'ca...</td>\n    </tr>\n    <tr>\n      <th>35</th>\n      <td>Avocado</td>\n      <td>84</td>\n      <td>Lauraceae</td>\n      <td>Laurales</td>\n      <td>Persea</td>\n      <td>{'calories': 160, 'fat': 14.66, 'sugar': 0.66,...</td>\n    </tr>\n    <tr>\n      <th>36</th>\n      <td>Kiwifruit</td>\n      <td>85</td>\n      <td>Actinidiaceae</td>\n      <td>Ericales</td>\n      <td>Actinidia</td>\n      <td>{'calories': 61, 'fat': 0.5, 'sugar': 8.9, 'ca...</td>\n    </tr>\n    <tr>\n      <th>37</th>\n      <td>Cranberry</td>\n      <td>87</td>\n      <td>Ericaceae</td>\n      <td>Ericales</td>\n      <td>Vaccinium</td>\n      <td>{'calories': 46, 'fat': 0.1, 'sugar': 4.0, 'ca...</td>\n    </tr>\n    <tr>\n      <th>38</th>\n      <td>Cherry</td>\n      <td>9</td>\n      <td>Rosaceae</td>\n      <td>Rosales</td>\n      <td>Prunus</td>\n      <td>{'calories': 50, 'fat': 0.3, 'sugar': 8.0, 'ca...</td>\n    </tr>\n    <tr>\n      <th>39</th>\n      <td>Peach</td>\n      <td>86</td>\n      <td>Rosaceae</td>\n      <td>Rosales</td>\n      <td>Prunus</td>\n      <td>{'calories': 39, 'fat': 0.25, 'sugar': 8.4, 'c...</td>\n    </tr>\n    <tr>\n      <th>40</th>\n      <td>Jackfruit</td>\n      <td>94</td>\n      <td>Moraceae</td>\n      <td>Rosales</td>\n      <td>Artocarpus</td>\n      <td>{'calories': 95, 'fat': 0.0, 'sugar': 19.1, 'c...</td>\n    </tr>\n    <tr>\n      <th>41</th>\n      <td>Horned Melon</td>\n      <td>95</td>\n      <td>Cucurbitaceae</td>\n      <td>Cucurbitales</td>\n      <td>Cucumis</td>\n      <td>{'calories': 44, 'fat': 1.26, 'sugar': 0.5, 'c...</td>\n    </tr>\n  </tbody>\n</table>\n</div>"
     },
     "execution_count": 16,
     "metadata": {},
     "output_type": "execute_result"
    }
   ],
   "source": [
    "pd.DataFrame(results)"
   ],
   "execution_count": 16
  },
  {
   "cell_type": "markdown",
   "id": "67335d03-2b65-4f87-966d-e9eb037cca3d",
   "metadata": {
    "pycharm": {
     "name": "#%% md\n"
    }
   },
   "outputs": [],
   "source": [
    "The result is in a nested json format. The 'nutrition' column contains multiple subcolumns, so the data needs to be 'flattened' or normalized.\n"
   ]
  },
  {
   "cell_type": "code",
   "id": "2bdb47c1-e70f-4649-b828-17d59c2f9f0b",
   "metadata": {
    "pycharm": {
     "name": "#%%\n"
    }
   },
   "outputs": [],
   "source": [
    "df2 = pd.json_normalize(results)"
   ],
   "execution_count": 17
  },
  {
   "cell_type": "code",
   "id": "17766199-8383-4e87-95ee-a93c25e73100",
   "metadata": {
    "pycharm": {
     "name": "#%%\n"
    }
   },
   "outputs": [
    {
     "data": {
      "text/plain": "            name  id           family             order         genus   \n0      Persimmon  52        Ebenaceae           Rosales     Diospyros  \\\n1     Strawberry   3         Rosaceae           Rosales      Fragaria   \n2         Banana   1         Musaceae      Zingiberales          Musa   \n3         Tomato   5       Solanaceae         Solanales       Solanum   \n4           Pear   4         Rosaceae           Rosales         Pyrus   \n5         Durian  60        Malvaceae          Malvales         Durio   \n6     Blackberry  64         Rosaceae           Rosales         Rubus   \n7    Lingonberry  65        Ericaceae          Ericales     Vaccinium   \n8           Kiwi  66    Actinidiaceae  Struthioniformes       Apteryx   \n9         Lychee  67      Sapindaceae        Sapindales        Litchi   \n10     Pineapple  10     Bromeliaceae            Poales        Ananas   \n11           Fig  68         Moraceae           Rosales         Ficus   \n12    Gooseberry  69  Grossulariaceae      Saxifragales         Ribes   \n13  Passionfruit  70   Passifloraceae      Malpighiales    Passiflora   \n14          Plum  71         Rosaceae           Rosales        Prunus   \n15        Orange   2         Rutaceae        Sapindales        Citrus   \n16    GreenApple  72         Rosaceae           Rosales         Malus   \n17     Raspberry  23         Rosaceae           Rosales         Rubus   \n18    Watermelon  25    Cucurbitaceae      Cucurbitales     Citrullus   \n19         Lemon  26         Rutaceae        Sapindales        Citrus   \n20         Mango  27    Anacardiaceae        Sapindales     Mangifera   \n21     Blueberry  33         Rosaceae           Rosales      Fragaria   \n22         Apple   6         Rosaceae           Rosales         Malus   \n23         Guava  37        Myrtaceae          Myrtales       Psidium   \n24       Apricot  35         Rosaceae           Rosales        Prunus   \n25        Papaya  42       Caricaceae         Caricacea        Carica   \n26         Melon  41    Cucurbitaceae     Cucurbitaceae       Cucumis   \n27     Tangerine  77         Rutaceae        Sapindales        Citrus   \n28      Pitahaya  78        Cactaceae    Caryophyllales     Cactaceae   \n29          Lime  44         Rutaceae        Sapindales        Citrus   \n30   Pomegranate  79       Lythraceae          Myrtales        Punica   \n31   Dragonfruit  80        Cactaceae    Caryophyllales  Selenicereus   \n32         Grape  81         Vitaceae           Vitales         Vitis   \n33         Morus  82         Moraceae           Rosales         Morus   \n34        Feijoa  76        Myrtaceae        Myrtoideae    Sellowiana   \n35       Avocado  84        Lauraceae          Laurales        Persea   \n36     Kiwifruit  85    Actinidiaceae          Ericales     Actinidia   \n37     Cranberry  87        Ericaceae          Ericales     Vaccinium   \n38        Cherry   9         Rosaceae           Rosales        Prunus   \n39         Peach  86         Rosaceae           Rosales        Prunus   \n40     Jackfruit  94         Moraceae           Rosales    Artocarpus   \n41  Horned Melon  95    Cucurbitaceae      Cucurbitales       Cucumis   \n\n    nutritions.calories  nutritions.fat  nutritions.sugar   \n0                    81            0.00             18.00  \\\n1                    29            0.40              5.40   \n2                    96            0.20             17.20   \n3                    74            0.20              2.60   \n4                    57            0.10             10.00   \n5                   147            5.30              6.75   \n6                    40            0.40              4.50   \n7                    50            0.34              5.74   \n8                    61            0.50              9.00   \n9                    66            0.44             15.00   \n10                   50            0.12              9.85   \n11                   74            0.30             16.00   \n12                   44            0.60              0.00   \n13                   97            0.70             11.20   \n14                   46            0.28              9.92   \n15                   43            0.20              8.20   \n16                   21            0.10              6.40   \n17                   53            0.70              4.40   \n18                   30            0.20              6.00   \n19                   29            0.30              2.50   \n20                   60            0.38             13.70   \n21                   29            0.40              5.40   \n22                   52            0.40             10.30   \n23                   68            1.00              9.00   \n24                   15            0.10              3.20   \n25                   43            0.40              1.00   \n26                   34            0.00              8.00   \n27                   45            0.40              9.10   \n28                   36            0.40              3.00   \n29                   25            0.10              1.70   \n30                   83            1.20             13.70   \n31                   60            1.50              8.00   \n32                   69            0.16             16.00   \n33                   43            0.39              8.10   \n34                   44            0.40              3.00   \n35                  160           14.66              0.66   \n36                   61            0.50              8.90   \n37                   46            0.10              4.00   \n38                   50            0.30              8.00   \n39                   39            0.25              8.40   \n40                   95            0.00             19.10   \n41                   44            1.26              0.50   \n\n    nutritions.carbohydrates  nutritions.protein  \n0                      18.00                0.00  \n1                       5.50                0.80  \n2                      22.00                1.00  \n3                       3.90                0.90  \n4                      15.00                0.40  \n5                      27.10                1.50  \n6                       9.00                1.30  \n7                      11.30                0.75  \n8                      15.00                1.10  \n9                      17.00                0.80  \n10                     13.12                0.54  \n11                     19.00                0.80  \n12                     10.00                0.90  \n13                     22.40                2.20  \n14                     11.40                0.70  \n15                      8.30                1.00  \n16                      3.10                0.40  \n17                     12.00                1.20  \n18                      8.00                0.60  \n19                      9.00                1.10  \n20                     15.00                0.82  \n21                      5.50                0.00  \n22                     11.40                0.30  \n23                     14.00                2.60  \n24                      3.90                0.50  \n25                     11.00                0.00  \n26                      8.00                0.00  \n27                      8.30                0.00  \n28                      7.00                1.00  \n29                      8.40                0.30  \n30                     18.70                1.70  \n31                      9.00                9.00  \n32                     18.10                0.72  \n33                      9.80                1.44  \n34                      8.00                0.60  \n35                      8.53                2.00  \n36                     14.60                1.14  \n37                     12.20                0.40  \n38                     12.00                1.00  \n39                      9.50                0.90  \n40                     23.20                1.72  \n41                      7.56                1.78  ",
      "text/html": "<div>\n<style scoped>\n    .dataframe tbody tr th:only-of-type {\n        vertical-align: middle;\n    }\n\n    .dataframe tbody tr th {\n        vertical-align: top;\n    }\n\n    .dataframe thead th {\n        text-align: right;\n    }\n</style>\n<table border=\"1\" class=\"dataframe\">\n  <thead>\n    <tr style=\"text-align: right;\">\n      <th></th>\n      <th>name</th>\n      <th>id</th>\n      <th>family</th>\n      <th>order</th>\n      <th>genus</th>\n      <th>nutritions.calories</th>\n      <th>nutritions.fat</th>\n      <th>nutritions.sugar</th>\n      <th>nutritions.carbohydrates</th>\n      <th>nutritions.protein</th>\n    </tr>\n  </thead>\n  <tbody>\n    <tr>\n      <th>0</th>\n      <td>Persimmon</td>\n      <td>52</td>\n      <td>Ebenaceae</td>\n      <td>Rosales</td>\n      <td>Diospyros</td>\n      <td>81</td>\n      <td>0.00</td>\n      <td>18.00</td>\n      <td>18.00</td>\n      <td>0.00</td>\n    </tr>\n    <tr>\n      <th>1</th>\n      <td>Strawberry</td>\n      <td>3</td>\n      <td>Rosaceae</td>\n      <td>Rosales</td>\n      <td>Fragaria</td>\n      <td>29</td>\n      <td>0.40</td>\n      <td>5.40</td>\n      <td>5.50</td>\n      <td>0.80</td>\n    </tr>\n    <tr>\n      <th>2</th>\n      <td>Banana</td>\n      <td>1</td>\n      <td>Musaceae</td>\n      <td>Zingiberales</td>\n      <td>Musa</td>\n      <td>96</td>\n      <td>0.20</td>\n      <td>17.20</td>\n      <td>22.00</td>\n      <td>1.00</td>\n    </tr>\n    <tr>\n      <th>3</th>\n      <td>Tomato</td>\n      <td>5</td>\n      <td>Solanaceae</td>\n      <td>Solanales</td>\n      <td>Solanum</td>\n      <td>74</td>\n      <td>0.20</td>\n      <td>2.60</td>\n      <td>3.90</td>\n      <td>0.90</td>\n    </tr>\n    <tr>\n      <th>4</th>\n      <td>Pear</td>\n      <td>4</td>\n      <td>Rosaceae</td>\n      <td>Rosales</td>\n      <td>Pyrus</td>\n      <td>57</td>\n      <td>0.10</td>\n      <td>10.00</td>\n      <td>15.00</td>\n      <td>0.40</td>\n    </tr>\n    <tr>\n      <th>5</th>\n      <td>Durian</td>\n      <td>60</td>\n      <td>Malvaceae</td>\n      <td>Malvales</td>\n      <td>Durio</td>\n      <td>147</td>\n      <td>5.30</td>\n      <td>6.75</td>\n      <td>27.10</td>\n      <td>1.50</td>\n    </tr>\n    <tr>\n      <th>6</th>\n      <td>Blackberry</td>\n      <td>64</td>\n      <td>Rosaceae</td>\n      <td>Rosales</td>\n      <td>Rubus</td>\n      <td>40</td>\n      <td>0.40</td>\n      <td>4.50</td>\n      <td>9.00</td>\n      <td>1.30</td>\n    </tr>\n    <tr>\n      <th>7</th>\n      <td>Lingonberry</td>\n      <td>65</td>\n      <td>Ericaceae</td>\n      <td>Ericales</td>\n      <td>Vaccinium</td>\n      <td>50</td>\n      <td>0.34</td>\n      <td>5.74</td>\n      <td>11.30</td>\n      <td>0.75</td>\n    </tr>\n    <tr>\n      <th>8</th>\n      <td>Kiwi</td>\n      <td>66</td>\n      <td>Actinidiaceae</td>\n      <td>Struthioniformes</td>\n      <td>Apteryx</td>\n      <td>61</td>\n      <td>0.50</td>\n      <td>9.00</td>\n      <td>15.00</td>\n      <td>1.10</td>\n    </tr>\n    <tr>\n      <th>9</th>\n      <td>Lychee</td>\n      <td>67</td>\n      <td>Sapindaceae</td>\n      <td>Sapindales</td>\n      <td>Litchi</td>\n      <td>66</td>\n      <td>0.44</td>\n      <td>15.00</td>\n      <td>17.00</td>\n      <td>0.80</td>\n    </tr>\n    <tr>\n      <th>10</th>\n      <td>Pineapple</td>\n      <td>10</td>\n      <td>Bromeliaceae</td>\n      <td>Poales</td>\n      <td>Ananas</td>\n      <td>50</td>\n      <td>0.12</td>\n      <td>9.85</td>\n      <td>13.12</td>\n      <td>0.54</td>\n    </tr>\n    <tr>\n      <th>11</th>\n      <td>Fig</td>\n      <td>68</td>\n      <td>Moraceae</td>\n      <td>Rosales</td>\n      <td>Ficus</td>\n      <td>74</td>\n      <td>0.30</td>\n      <td>16.00</td>\n      <td>19.00</td>\n      <td>0.80</td>\n    </tr>\n    <tr>\n      <th>12</th>\n      <td>Gooseberry</td>\n      <td>69</td>\n      <td>Grossulariaceae</td>\n      <td>Saxifragales</td>\n      <td>Ribes</td>\n      <td>44</td>\n      <td>0.60</td>\n      <td>0.00</td>\n      <td>10.00</td>\n      <td>0.90</td>\n    </tr>\n    <tr>\n      <th>13</th>\n      <td>Passionfruit</td>\n      <td>70</td>\n      <td>Passifloraceae</td>\n      <td>Malpighiales</td>\n      <td>Passiflora</td>\n      <td>97</td>\n      <td>0.70</td>\n      <td>11.20</td>\n      <td>22.40</td>\n      <td>2.20</td>\n    </tr>\n    <tr>\n      <th>14</th>\n      <td>Plum</td>\n      <td>71</td>\n      <td>Rosaceae</td>\n      <td>Rosales</td>\n      <td>Prunus</td>\n      <td>46</td>\n      <td>0.28</td>\n      <td>9.92</td>\n      <td>11.40</td>\n      <td>0.70</td>\n    </tr>\n    <tr>\n      <th>15</th>\n      <td>Orange</td>\n      <td>2</td>\n      <td>Rutaceae</td>\n      <td>Sapindales</td>\n      <td>Citrus</td>\n      <td>43</td>\n      <td>0.20</td>\n      <td>8.20</td>\n      <td>8.30</td>\n      <td>1.00</td>\n    </tr>\n    <tr>\n      <th>16</th>\n      <td>GreenApple</td>\n      <td>72</td>\n      <td>Rosaceae</td>\n      <td>Rosales</td>\n      <td>Malus</td>\n      <td>21</td>\n      <td>0.10</td>\n      <td>6.40</td>\n      <td>3.10</td>\n      <td>0.40</td>\n    </tr>\n    <tr>\n      <th>17</th>\n      <td>Raspberry</td>\n      <td>23</td>\n      <td>Rosaceae</td>\n      <td>Rosales</td>\n      <td>Rubus</td>\n      <td>53</td>\n      <td>0.70</td>\n      <td>4.40</td>\n      <td>12.00</td>\n      <td>1.20</td>\n    </tr>\n    <tr>\n      <th>18</th>\n      <td>Watermelon</td>\n      <td>25</td>\n      <td>Cucurbitaceae</td>\n      <td>Cucurbitales</td>\n      <td>Citrullus</td>\n      <td>30</td>\n      <td>0.20</td>\n      <td>6.00</td>\n      <td>8.00</td>\n      <td>0.60</td>\n    </tr>\n    <tr>\n      <th>19</th>\n      <td>Lemon</td>\n      <td>26</td>\n      <td>Rutaceae</td>\n      <td>Sapindales</td>\n      <td>Citrus</td>\n      <td>29</td>\n      <td>0.30</td>\n      <td>2.50</td>\n      <td>9.00</td>\n      <td>1.10</td>\n    </tr>\n    <tr>\n      <th>20</th>\n      <td>Mango</td>\n      <td>27</td>\n      <td>Anacardiaceae</td>\n      <td>Sapindales</td>\n      <td>Mangifera</td>\n      <td>60</td>\n      <td>0.38</td>\n      <td>13.70</td>\n      <td>15.00</td>\n      <td>0.82</td>\n    </tr>\n    <tr>\n      <th>21</th>\n      <td>Blueberry</td>\n      <td>33</td>\n      <td>Rosaceae</td>\n      <td>Rosales</td>\n      <td>Fragaria</td>\n      <td>29</td>\n      <td>0.40</td>\n      <td>5.40</td>\n      <td>5.50</td>\n      <td>0.00</td>\n    </tr>\n    <tr>\n      <th>22</th>\n      <td>Apple</td>\n      <td>6</td>\n      <td>Rosaceae</td>\n      <td>Rosales</td>\n      <td>Malus</td>\n      <td>52</td>\n      <td>0.40</td>\n      <td>10.30</td>\n      <td>11.40</td>\n      <td>0.30</td>\n    </tr>\n    <tr>\n      <th>23</th>\n      <td>Guava</td>\n      <td>37</td>\n      <td>Myrtaceae</td>\n      <td>Myrtales</td>\n      <td>Psidium</td>\n      <td>68</td>\n      <td>1.00</td>\n      <td>9.00</td>\n      <td>14.00</td>\n      <td>2.60</td>\n    </tr>\n    <tr>\n      <th>24</th>\n      <td>Apricot</td>\n      <td>35</td>\n      <td>Rosaceae</td>\n      <td>Rosales</td>\n      <td>Prunus</td>\n      <td>15</td>\n      <td>0.10</td>\n      <td>3.20</td>\n      <td>3.90</td>\n      <td>0.50</td>\n    </tr>\n    <tr>\n      <th>25</th>\n      <td>Papaya</td>\n      <td>42</td>\n      <td>Caricaceae</td>\n      <td>Caricacea</td>\n      <td>Carica</td>\n      <td>43</td>\n      <td>0.40</td>\n      <td>1.00</td>\n      <td>11.00</td>\n      <td>0.00</td>\n    </tr>\n    <tr>\n      <th>26</th>\n      <td>Melon</td>\n      <td>41</td>\n      <td>Cucurbitaceae</td>\n      <td>Cucurbitaceae</td>\n      <td>Cucumis</td>\n      <td>34</td>\n      <td>0.00</td>\n      <td>8.00</td>\n      <td>8.00</td>\n      <td>0.00</td>\n    </tr>\n    <tr>\n      <th>27</th>\n      <td>Tangerine</td>\n      <td>77</td>\n      <td>Rutaceae</td>\n      <td>Sapindales</td>\n      <td>Citrus</td>\n      <td>45</td>\n      <td>0.40</td>\n      <td>9.10</td>\n      <td>8.30</td>\n      <td>0.00</td>\n    </tr>\n    <tr>\n      <th>28</th>\n      <td>Pitahaya</td>\n      <td>78</td>\n      <td>Cactaceae</td>\n      <td>Caryophyllales</td>\n      <td>Cactaceae</td>\n      <td>36</td>\n      <td>0.40</td>\n      <td>3.00</td>\n      <td>7.00</td>\n      <td>1.00</td>\n    </tr>\n    <tr>\n      <th>29</th>\n      <td>Lime</td>\n      <td>44</td>\n      <td>Rutaceae</td>\n      <td>Sapindales</td>\n      <td>Citrus</td>\n      <td>25</td>\n      <td>0.10</td>\n      <td>1.70</td>\n      <td>8.40</td>\n      <td>0.30</td>\n    </tr>\n    <tr>\n      <th>30</th>\n      <td>Pomegranate</td>\n      <td>79</td>\n      <td>Lythraceae</td>\n      <td>Myrtales</td>\n      <td>Punica</td>\n      <td>83</td>\n      <td>1.20</td>\n      <td>13.70</td>\n      <td>18.70</td>\n      <td>1.70</td>\n    </tr>\n    <tr>\n      <th>31</th>\n      <td>Dragonfruit</td>\n      <td>80</td>\n      <td>Cactaceae</td>\n      <td>Caryophyllales</td>\n      <td>Selenicereus</td>\n      <td>60</td>\n      <td>1.50</td>\n      <td>8.00</td>\n      <td>9.00</td>\n      <td>9.00</td>\n    </tr>\n    <tr>\n      <th>32</th>\n      <td>Grape</td>\n      <td>81</td>\n      <td>Vitaceae</td>\n      <td>Vitales</td>\n      <td>Vitis</td>\n      <td>69</td>\n      <td>0.16</td>\n      <td>16.00</td>\n      <td>18.10</td>\n      <td>0.72</td>\n    </tr>\n    <tr>\n      <th>33</th>\n      <td>Morus</td>\n      <td>82</td>\n      <td>Moraceae</td>\n      <td>Rosales</td>\n      <td>Morus</td>\n      <td>43</td>\n      <td>0.39</td>\n      <td>8.10</td>\n      <td>9.80</td>\n      <td>1.44</td>\n    </tr>\n    <tr>\n      <th>34</th>\n      <td>Feijoa</td>\n      <td>76</td>\n      <td>Myrtaceae</td>\n      <td>Myrtoideae</td>\n      <td>Sellowiana</td>\n      <td>44</td>\n      <td>0.40</td>\n      <td>3.00</td>\n      <td>8.00</td>\n      <td>0.60</td>\n    </tr>\n    <tr>\n      <th>35</th>\n      <td>Avocado</td>\n      <td>84</td>\n      <td>Lauraceae</td>\n      <td>Laurales</td>\n      <td>Persea</td>\n      <td>160</td>\n      <td>14.66</td>\n      <td>0.66</td>\n      <td>8.53</td>\n      <td>2.00</td>\n    </tr>\n    <tr>\n      <th>36</th>\n      <td>Kiwifruit</td>\n      <td>85</td>\n      <td>Actinidiaceae</td>\n      <td>Ericales</td>\n      <td>Actinidia</td>\n      <td>61</td>\n      <td>0.50</td>\n      <td>8.90</td>\n      <td>14.60</td>\n      <td>1.14</td>\n    </tr>\n    <tr>\n      <th>37</th>\n      <td>Cranberry</td>\n      <td>87</td>\n      <td>Ericaceae</td>\n      <td>Ericales</td>\n      <td>Vaccinium</td>\n      <td>46</td>\n      <td>0.10</td>\n      <td>4.00</td>\n      <td>12.20</td>\n      <td>0.40</td>\n    </tr>\n    <tr>\n      <th>38</th>\n      <td>Cherry</td>\n      <td>9</td>\n      <td>Rosaceae</td>\n      <td>Rosales</td>\n      <td>Prunus</td>\n      <td>50</td>\n      <td>0.30</td>\n      <td>8.00</td>\n      <td>12.00</td>\n      <td>1.00</td>\n    </tr>\n    <tr>\n      <th>39</th>\n      <td>Peach</td>\n      <td>86</td>\n      <td>Rosaceae</td>\n      <td>Rosales</td>\n      <td>Prunus</td>\n      <td>39</td>\n      <td>0.25</td>\n      <td>8.40</td>\n      <td>9.50</td>\n      <td>0.90</td>\n    </tr>\n    <tr>\n      <th>40</th>\n      <td>Jackfruit</td>\n      <td>94</td>\n      <td>Moraceae</td>\n      <td>Rosales</td>\n      <td>Artocarpus</td>\n      <td>95</td>\n      <td>0.00</td>\n      <td>19.10</td>\n      <td>23.20</td>\n      <td>1.72</td>\n    </tr>\n    <tr>\n      <th>41</th>\n      <td>Horned Melon</td>\n      <td>95</td>\n      <td>Cucurbitaceae</td>\n      <td>Cucurbitales</td>\n      <td>Cucumis</td>\n      <td>44</td>\n      <td>1.26</td>\n      <td>0.50</td>\n      <td>7.56</td>\n      <td>1.78</td>\n    </tr>\n  </tbody>\n</table>\n</div>"
     },
     "execution_count": 18,
     "metadata": {},
     "output_type": "execute_result"
    }
   ],
   "source": [
    "df2"
   ],
   "execution_count": 18
  },
  {
   "cell_type": "markdown",
   "id": "56f75829-2153-4973-9012-73304262502c",
   "metadata": {
    "pycharm": {
     "name": "#%% md\n"
    }
   },
   "outputs": [],
   "source": [
    "Let's see if we can extract some information from this dataframe. Perhaps, we need to know the family and genus of a cherry.\n"
   ]
  },
  {
   "cell_type": "code",
   "id": "d6cf9fbe-bbf3-42d4-99fa-41b7efe0ddd0",
   "metadata": {
    "pycharm": {
     "name": "#%%\n"
    }
   },
   "outputs": [
    {
     "data": {
      "text/plain": "('Rosaceae', 'Prunus')"
     },
     "execution_count": 19,
     "metadata": {},
     "output_type": "execute_result"
    }
   ],
   "source": [
    "cherry = df2.loc[df2[\"name\"] == 'Cherry']\n",
    "(cherry.iloc[0]['family']) , (cherry.iloc[0]['genus'])"
   ],
   "execution_count": 19
  },
  {
   "cell_type": "markdown",
   "id": "3c5240a4-e5fc-4031-a1f4-983d3fe88ddf",
   "metadata": {
    "pycharm": {
     "name": "#%% md\n"
    }
   },
   "outputs": [],
   "source": [
    "## Exercise 2\n",
    "In this Exercise, find out how many calories are contained in a banana.\n"
   ]
  },
  {
   "cell_type": "code",
   "id": "b60cd488-84f2-4dab-ba3f-b9d9919b641a",
   "metadata": {
    "pycharm": {
     "name": "#%%\n"
    }
   },
   "outputs": [
    {
     "data": {
      "text/plain": "('Banana', 96)"
     },
     "execution_count": 24,
     "metadata": {},
     "output_type": "execute_result"
    }
   ],
   "source": [
    "# Write your code here\n",
    "calories=df2.loc[df2['name']==\"Banana\"]\n",
    "(calories.iloc[0]['name'],calories.iloc[0]['nutritions.calories'])"
   ],
   "execution_count": 24
  },
  {
   "cell_type": "markdown",
   "id": "9165f6ff-41c4-4fff-abd6-fc14f523de36",
   "metadata": {
    "pycharm": {
     "name": "#%% md\n"
    }
   },
   "outputs": [],
   "source": [
    "## Exercise 3\n",
    "\n",
    "This [page](https://github.com/public-apis/public-apis#animals) contains a list of free public APIs. Choose any API of your interest and use it to load/extract some information, as shown in the example above.\n",
    "1. Using `requests.get(\"url\")` function, load your data.\n"
   ]
  },
  {
   "cell_type": "code",
   "id": "cb87b25a-72de-4571-8b1f-8bb2d33f8ecc",
   "metadata": {
    "pycharm": {
     "name": "#%%\n"
    }
   },
   "outputs": [],
   "source": [
    "# Write your code here\n",
    "data_best=requests.get(\"https://s3.amazonaws.com/data-production-walltime-info/production/dynamic/walltime-info.json?now=1528962473468.679.0000000000873\")"
   ],
   "execution_count": 55
  },
  {
   "cell_type": "markdown",
   "id": "25a3c436-7d34-4fbc-9022-99cf12629709",
   "metadata": {
    "pycharm": {
     "name": "#%% md\n"
    }
   },
   "outputs": [],
   "source": [
    "2. Retrieve results using `json.loads()` function.\n"
   ]
  },
  {
   "cell_type": "code",
   "id": "5b3f48db-269f-486a-a2d2-42f04a17f7d9",
   "metadata": {
    "pycharm": {
     "name": "#%%\n"
    }
   },
   "outputs": [
    {
     "data": {
      "text/plain": "{'version': '1',\n 'last_update': '2023-03-10T03:15:40Z',\n 'last_update_timestamp': '1678418140186',\n 'BRL_XBT': {'last_inexact': '104000.0',\n  'last': '104000',\n  'highest_bid_inexact': '0.0',\n  'highest_bid': '0',\n  'n_trades_24h': '23',\n  'lowest_ask_inexact': '0.0',\n  'lowest_ask': '0',\n  'base_volume24h_inexact': '56481.04845195441',\n  'base_volume24h': '564810484519544126007/10000000000000000',\n  'quote_volume24h_inexact': '0.5281399352450199',\n  'quote_volume24h': '5281399352450199/10000000000000000',\n  'base_volume_today_inexact': '0.0',\n  'base_volume_today': '0',\n  'quote_volume_today_inexact': '0.0',\n  'quote_volume_today': '0',\n  'base_volume_yesterday_inexact': '56481.04845195441',\n  'base_volume_yesterday': '564810484519544126007/10000000000000000',\n  'quote_volume_yesterday_inexact': '0.5281399352450199',\n  'quote_volume_yesterday': '5281399352450199/10000000000000000'}}"
     },
     "execution_count": 56,
     "metadata": {},
     "output_type": "execute_result"
    }
   ],
   "source": [
    "# Write your code here\n",
    "load_data=json.loads(data_best.text)\n",
    "load_data"
   ],
   "execution_count": 56
  },
  {
   "cell_type": "markdown",
   "id": "72fe2276-f409-4fee-96f2-7b86e38ef6ca",
   "metadata": {
    "pycharm": {
     "name": "#%% md\n"
    }
   },
   "outputs": [],
   "source": [
    "<details><summary>Click here for the solution</summary>\n",
    "\n",
    "```python\n",
    "results2 = json.loads(data2.text)\n",
    "```\n",
    "\n",
    "</details>\n"
   ]
  },
  {
   "cell_type": "markdown",
   "id": "9669a8cc-62aa-4603-84c7-ec16bf1a8911",
   "metadata": {
    "pycharm": {
     "name": "#%% md\n"
    }
   },
   "outputs": [],
   "source": [
    "3. Convert json data into *pandas* data frame. \n"
   ]
  },
  {
   "cell_type": "code",
   "id": "f0a9a171-56a7-4fb4-8d62-9a321abf0dc1",
   "metadata": {
    "pycharm": {
     "name": "#%%\n"
    }
   },
   "outputs": [
    {
     "data": {
      "text/plain": "                               version           last_update   \nbase_volume24h                       1  2023-03-10T03:15:40Z  \\\nbase_volume24h_inexact               1  2023-03-10T03:15:40Z   \nbase_volume_today                    1  2023-03-10T03:15:40Z   \nbase_volume_today_inexact            1  2023-03-10T03:15:40Z   \nbase_volume_yesterday                1  2023-03-10T03:15:40Z   \nbase_volume_yesterday_inexact        1  2023-03-10T03:15:40Z   \nhighest_bid                          1  2023-03-10T03:15:40Z   \nhighest_bid_inexact                  1  2023-03-10T03:15:40Z   \nlast                                 1  2023-03-10T03:15:40Z   \nlast_inexact                         1  2023-03-10T03:15:40Z   \nlowest_ask                           1  2023-03-10T03:15:40Z   \nlowest_ask_inexact                   1  2023-03-10T03:15:40Z   \nn_trades_24h                         1  2023-03-10T03:15:40Z   \nquote_volume24h                      1  2023-03-10T03:15:40Z   \nquote_volume24h_inexact              1  2023-03-10T03:15:40Z   \nquote_volume_today                   1  2023-03-10T03:15:40Z   \nquote_volume_today_inexact           1  2023-03-10T03:15:40Z   \nquote_volume_yesterday               1  2023-03-10T03:15:40Z   \nquote_volume_yesterday_inexact       1  2023-03-10T03:15:40Z   \n\n                               last_update_timestamp   \nbase_volume24h                         1678418140186  \\\nbase_volume24h_inexact                 1678418140186   \nbase_volume_today                      1678418140186   \nbase_volume_today_inexact              1678418140186   \nbase_volume_yesterday                  1678418140186   \nbase_volume_yesterday_inexact          1678418140186   \nhighest_bid                            1678418140186   \nhighest_bid_inexact                    1678418140186   \nlast                                   1678418140186   \nlast_inexact                           1678418140186   \nlowest_ask                             1678418140186   \nlowest_ask_inexact                     1678418140186   \nn_trades_24h                           1678418140186   \nquote_volume24h                        1678418140186   \nquote_volume24h_inexact                1678418140186   \nquote_volume_today                     1678418140186   \nquote_volume_today_inexact             1678418140186   \nquote_volume_yesterday                 1678418140186   \nquote_volume_yesterday_inexact         1678418140186   \n\n                                                                BRL_XBT  \nbase_volume24h                  564810484519544126007/10000000000000000  \nbase_volume24h_inexact                                56481.04845195441  \nbase_volume_today                                                     0  \nbase_volume_today_inexact                                           0.0  \nbase_volume_yesterday           564810484519544126007/10000000000000000  \nbase_volume_yesterday_inexact                         56481.04845195441  \nhighest_bid                                                           0  \nhighest_bid_inexact                                                 0.0  \nlast                                                             104000  \nlast_inexact                                                   104000.0  \nlowest_ask                                                            0  \nlowest_ask_inexact                                                  0.0  \nn_trades_24h                                                         23  \nquote_volume24h                      5281399352450199/10000000000000000  \nquote_volume24h_inexact                              0.5281399352450199  \nquote_volume_today                                                    0  \nquote_volume_today_inexact                                          0.0  \nquote_volume_yesterday               5281399352450199/10000000000000000  \nquote_volume_yesterday_inexact                       0.5281399352450199  ",
      "text/html": "<div>\n<style scoped>\n    .dataframe tbody tr th:only-of-type {\n        vertical-align: middle;\n    }\n\n    .dataframe tbody tr th {\n        vertical-align: top;\n    }\n\n    .dataframe thead th {\n        text-align: right;\n    }\n</style>\n<table border=\"1\" class=\"dataframe\">\n  <thead>\n    <tr style=\"text-align: right;\">\n      <th></th>\n      <th>version</th>\n      <th>last_update</th>\n      <th>last_update_timestamp</th>\n      <th>BRL_XBT</th>\n    </tr>\n  </thead>\n  <tbody>\n    <tr>\n      <th>base_volume24h</th>\n      <td>1</td>\n      <td>2023-03-10T03:15:40Z</td>\n      <td>1678418140186</td>\n      <td>564810484519544126007/10000000000000000</td>\n    </tr>\n    <tr>\n      <th>base_volume24h_inexact</th>\n      <td>1</td>\n      <td>2023-03-10T03:15:40Z</td>\n      <td>1678418140186</td>\n      <td>56481.04845195441</td>\n    </tr>\n    <tr>\n      <th>base_volume_today</th>\n      <td>1</td>\n      <td>2023-03-10T03:15:40Z</td>\n      <td>1678418140186</td>\n      <td>0</td>\n    </tr>\n    <tr>\n      <th>base_volume_today_inexact</th>\n      <td>1</td>\n      <td>2023-03-10T03:15:40Z</td>\n      <td>1678418140186</td>\n      <td>0.0</td>\n    </tr>\n    <tr>\n      <th>base_volume_yesterday</th>\n      <td>1</td>\n      <td>2023-03-10T03:15:40Z</td>\n      <td>1678418140186</td>\n      <td>564810484519544126007/10000000000000000</td>\n    </tr>\n    <tr>\n      <th>base_volume_yesterday_inexact</th>\n      <td>1</td>\n      <td>2023-03-10T03:15:40Z</td>\n      <td>1678418140186</td>\n      <td>56481.04845195441</td>\n    </tr>\n    <tr>\n      <th>highest_bid</th>\n      <td>1</td>\n      <td>2023-03-10T03:15:40Z</td>\n      <td>1678418140186</td>\n      <td>0</td>\n    </tr>\n    <tr>\n      <th>highest_bid_inexact</th>\n      <td>1</td>\n      <td>2023-03-10T03:15:40Z</td>\n      <td>1678418140186</td>\n      <td>0.0</td>\n    </tr>\n    <tr>\n      <th>last</th>\n      <td>1</td>\n      <td>2023-03-10T03:15:40Z</td>\n      <td>1678418140186</td>\n      <td>104000</td>\n    </tr>\n    <tr>\n      <th>last_inexact</th>\n      <td>1</td>\n      <td>2023-03-10T03:15:40Z</td>\n      <td>1678418140186</td>\n      <td>104000.0</td>\n    </tr>\n    <tr>\n      <th>lowest_ask</th>\n      <td>1</td>\n      <td>2023-03-10T03:15:40Z</td>\n      <td>1678418140186</td>\n      <td>0</td>\n    </tr>\n    <tr>\n      <th>lowest_ask_inexact</th>\n      <td>1</td>\n      <td>2023-03-10T03:15:40Z</td>\n      <td>1678418140186</td>\n      <td>0.0</td>\n    </tr>\n    <tr>\n      <th>n_trades_24h</th>\n      <td>1</td>\n      <td>2023-03-10T03:15:40Z</td>\n      <td>1678418140186</td>\n      <td>23</td>\n    </tr>\n    <tr>\n      <th>quote_volume24h</th>\n      <td>1</td>\n      <td>2023-03-10T03:15:40Z</td>\n      <td>1678418140186</td>\n      <td>5281399352450199/10000000000000000</td>\n    </tr>\n    <tr>\n      <th>quote_volume24h_inexact</th>\n      <td>1</td>\n      <td>2023-03-10T03:15:40Z</td>\n      <td>1678418140186</td>\n      <td>0.5281399352450199</td>\n    </tr>\n    <tr>\n      <th>quote_volume_today</th>\n      <td>1</td>\n      <td>2023-03-10T03:15:40Z</td>\n      <td>1678418140186</td>\n      <td>0</td>\n    </tr>\n    <tr>\n      <th>quote_volume_today_inexact</th>\n      <td>1</td>\n      <td>2023-03-10T03:15:40Z</td>\n      <td>1678418140186</td>\n      <td>0.0</td>\n    </tr>\n    <tr>\n      <th>quote_volume_yesterday</th>\n      <td>1</td>\n      <td>2023-03-10T03:15:40Z</td>\n      <td>1678418140186</td>\n      <td>5281399352450199/10000000000000000</td>\n    </tr>\n    <tr>\n      <th>quote_volume_yesterday_inexact</th>\n      <td>1</td>\n      <td>2023-03-10T03:15:40Z</td>\n      <td>1678418140186</td>\n      <td>0.5281399352450199</td>\n    </tr>\n  </tbody>\n</table>\n</div>"
     },
     "execution_count": 57,
     "metadata": {},
     "output_type": "execute_result"
    }
   ],
   "source": [
    "# Write your code here\n",
    "df3=pd.DataFrame(load_data)\n",
    "df3"
   ],
   "execution_count": 57
  }
 ],
 "metadata": {
  "kernelspec": {
   "name": "python3",
   "language": "python",
   "display_name": "Python 3 (ipykernel)"
  },
  "language_info": {
   "name": ""
  }
 },
 "nbformat": 4,
 "nbformat_minor": 4
}