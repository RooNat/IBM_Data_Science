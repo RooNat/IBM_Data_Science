{
 "cells": [
  {
   "cell_type": "markdown",
   "metadata": {
    "pycharm": {
     "name": "#%% md\n"
    }
   },
   "source": [
    "<center>\n",
    "    <img src=\"https://cf-courses-data.s3.us.cloud-object-storage.appdomain.cloud/IBMDeveloperSkillsNetwork-PY0101EN-SkillsNetwork/IDSNlogo.png\" width=\"300\" alt=\"cognitiveclass.ai logo\">\n",
    "</center>\n",
    "\n",
    "# Application Programming Interface\n",
    "\n",
    "Estimated time needed: **15** minutes\n",
    "\n",
    "## Objectives\n",
    "\n",
    "After completing this lab you will be able to:\n",
    "\n",
    "*   Create and Use APIs in Python\n"
   ]
  },
  {
   "cell_type": "markdown",
   "metadata": {
    "pycharm": {
     "name": "#%% md\n"
    }
   },
   "source": [
    "### Introduction\n",
    "\n",
    "An API lets two pieces of software talk to each other. Just like a function, you don't have to know how the API works, only its inputs and outputs.  An essential type of API is a REST API that allows you to access resources via the internet. In this lab, we will review the Pandas Library in the context of an API, we will also review a basic REST API\n"
   ]
  },
  {
   "cell_type": "markdown",
   "metadata": {
    "pycharm": {
     "name": "#%% md\n"
    }
   },
   "source": [
    "## Table of Contents\n",
    "\n"
   ]
  },
  {
   "cell_type": "markdown",
   "metadata": {
    "pycharm": {
     "name": "#%% md\n"
    }
   },
   "source": [
    "## Pandas is an API\n"
   ]
  },
  {
   "cell_type": "markdown",
   "metadata": {
    "pycharm": {
     "name": "#%% md\n"
    }
   },
   "source": [
    "You will use this function in the lab:\n"
   ]
  },
  {
   "cell_type": "code",
   "execution_count": 1,
   "metadata": {
    "pycharm": {
     "name": "#%%\n"
    }
   },
   "outputs": [],
   "source": [
    "def one_dict(list_dict):\n",
    "    keys=list_dict[0].keys()\n",
    "    out_dict={key:[] for key in keys}\n",
    "    for dict_ in list_dict:\n",
    "        for key, value in dict_.items():\n",
    "            out_dict[key].append(value)\n",
    "    return out_dict"
   ]
  },
  {
   "cell_type": "markdown",
   "metadata": {
    "pycharm": {
     "name": "#%% md\n"
    }
   },
   "source": [
    "Pandas is actually set of software components , much of  which is not even written in Python.\n"
   ]
  },
  {
   "cell_type": "code",
   "execution_count": 3,
   "metadata": {
    "pycharm": {
     "name": "#%%\n"
    }
   },
   "outputs": [],
   "source": [
    "import pandas as pd\n",
    "import matplotlib.pyplot as plt"
   ]
  },
  {
   "cell_type": "markdown",
   "metadata": {
    "pycharm": {
     "name": "#%% md\n"
    }
   },
   "source": [
    "You create a dictionary, this is just data.\n"
   ]
  },
  {
   "cell_type": "code",
   "execution_count": 4,
   "metadata": {
    "pycharm": {
     "name": "#%%\n"
    }
   },
   "outputs": [],
   "source": [
    "dict_={'a':[11,21,31],'b':[12,22,32]}"
   ]
  },
  {
   "cell_type": "markdown",
   "metadata": {
    "pycharm": {
     "name": "#%% md\n"
    }
   },
   "source": [
    "When you create a Pandas object with the dataframe constructor, in API lingo this is an \"instance\". The data in the dictionary is passed along to the pandas API. You then use the dataframe to communicate with the API.\n"
   ]
  },
  {
   "cell_type": "code",
   "execution_count": 6,
   "metadata": {
    "pycharm": {
     "name": "#%%\n"
    }
   },
   "outputs": [
    {
     "data": {
      "text/plain": "pandas.core.frame.DataFrame"
     },
     "execution_count": 6,
     "metadata": {},
     "output_type": "execute_result"
    }
   ],
   "source": [
    "df=pd.DataFrame(dict_)\n",
    "type(df)"
   ]
  },
  {
   "cell_type": "markdown",
   "metadata": {
    "pycharm": {
     "name": "#%% md\n"
    }
   },
   "source": [
    "<img src=\"https://cf-courses-data.s3.us.cloud-object-storage.appdomain.cloud/IBMDeveloperSkillsNetwork-PY0101EN-SkillsNetwork/labs/Module%205/images/pandas_api.png\" width=\"800,\" align=\"center\" alt=\"logistic regression block diagram\">\n"
   ]
  },
  {
   "cell_type": "markdown",
   "metadata": {
    "pycharm": {
     "name": "#%% md\n"
    }
   },
   "source": [
    "When you call the method `head` the dataframe communicates with the API displaying the first few rows of the dataframe.\n"
   ]
  },
  {
   "cell_type": "code",
   "execution_count": 7,
   "metadata": {
    "pycharm": {
     "name": "#%%\n"
    }
   },
   "outputs": [
    {
     "data": {
      "text/plain": "    a   b\n0  11  12\n1  21  22\n2  31  32",
      "text/html": "<div>\n<style scoped>\n    .dataframe tbody tr th:only-of-type {\n        vertical-align: middle;\n    }\n\n    .dataframe tbody tr th {\n        vertical-align: top;\n    }\n\n    .dataframe thead th {\n        text-align: right;\n    }\n</style>\n<table border=\"1\" class=\"dataframe\">\n  <thead>\n    <tr style=\"text-align: right;\">\n      <th></th>\n      <th>a</th>\n      <th>b</th>\n    </tr>\n  </thead>\n  <tbody>\n    <tr>\n      <th>0</th>\n      <td>11</td>\n      <td>12</td>\n    </tr>\n    <tr>\n      <th>1</th>\n      <td>21</td>\n      <td>22</td>\n    </tr>\n    <tr>\n      <th>2</th>\n      <td>31</td>\n      <td>32</td>\n    </tr>\n  </tbody>\n</table>\n</div>"
     },
     "execution_count": 7,
     "metadata": {},
     "output_type": "execute_result"
    }
   ],
   "source": [
    "df.head()"
   ]
  },
  {
   "cell_type": "markdown",
   "metadata": {
    "pycharm": {
     "name": "#%% md\n"
    }
   },
   "source": [
    "When you call the method `mean`, the API will calculate the mean and return the value.\n"
   ]
  },
  {
   "cell_type": "code",
   "execution_count": 8,
   "metadata": {
    "pycharm": {
     "name": "#%%\n"
    }
   },
   "outputs": [
    {
     "data": {
      "text/plain": "a    21.0\nb    22.0\ndtype: float64"
     },
     "execution_count": 8,
     "metadata": {},
     "output_type": "execute_result"
    }
   ],
   "source": [
    "df.mean()"
   ]
  },
  {
   "cell_type": "markdown",
   "metadata": {
    "pycharm": {
     "name": "#%% md\n"
    }
   },
   "source": [
    "<h2 id=\"ref1\">REST APIs</h2>\n"
   ]
  },
  {
   "cell_type": "markdown",
   "metadata": {
    "pycharm": {
     "name": "#%% md\n"
    }
   },
   "source": [
    "<p>Rest API's function by sending a <b>request</b>, the request is communicated via HTTP message. The HTTP message usually contains a JSON file. This contains instructions for what operation we would like the service or <b>resource</b> to perform. In a similar manner, API returns a <b>response</b>, via an HTTP message, this response is usually contained within a JSON.</p>\n",
    "<p>In this lab, we will use the <a href=https://pypi.org/project/nba-api/?utm_medium=Exinfluencer&utm_source=Exinfluencer&utm_content=000026UJ&utm_term=10006555&utm_id=NA-SkillsNetwork-Channel-SkillsNetworkCoursesIBMDeveloperSkillsNetworkPY0101ENSkillsNetwork19487395-2021-01-01>NBA API</a> to determine how well the Golden State Warriors performed against the Toronto Raptors. We will use the API to determine the number of points the Golden State Warriors won or lost by for each game. So if the value is three, the Golden State Warriors won by three points. Similarly it the  Golden State Warriors lost  by two points the result will be negative two. The API will handle a lot of the details, such a Endpoints and Authentication </p>\n"
   ]
  },
  {
   "cell_type": "markdown",
   "metadata": {
    "pycharm": {
     "name": "#%% md\n"
    }
   },
   "source": [
    "It's quite simple to use the nba api to make a request for a specific team. We don't require a JSON, all we require is an id. This information is stored locally in the API. We import the module `teams`\n"
   ]
  },
  {
   "cell_type": "code",
   "execution_count": 9,
   "metadata": {
    "pycharm": {
     "name": "#%%\n"
    }
   },
   "outputs": [
    {
     "name": "stdout",
     "output_type": "stream",
     "text": [
      "Collecting nba_api\r\n",
      "  Downloading nba_api-1.2.1-py3-none-any.whl (257 kB)\r\n",
      "\u001B[2K     \u001B[90m━━━━━━━━━━━━━━━━━━━━━━━━━━━━━━━━━━━━━━━\u001B[0m \u001B[32m257.3/257.3 kB\u001B[0m \u001B[31m5.1 MB/s\u001B[0m eta \u001B[36m0:00:00\u001B[0ma \u001B[36m0:00:01\u001B[0m\r\n",
      "\u001B[?25hRequirement already satisfied: numpy<2.0.0,>=1.22.2 in /Users/yujiewang/anaconda3/lib/python3.9/site-packages (from nba_api) (1.23.5)\r\n",
      "Requirement already satisfied: requests in /Users/yujiewang/anaconda3/lib/python3.9/site-packages (from nba_api) (2.28.1)\r\n",
      "Requirement already satisfied: urllib3<1.27,>=1.21.1 in /Users/yujiewang/anaconda3/lib/python3.9/site-packages (from requests->nba_api) (1.26.14)\r\n",
      "Requirement already satisfied: certifi>=2017.4.17 in /Users/yujiewang/anaconda3/lib/python3.9/site-packages (from requests->nba_api) (2022.6.15)\r\n",
      "Requirement already satisfied: idna<4,>=2.5 in /Users/yujiewang/anaconda3/lib/python3.9/site-packages (from requests->nba_api) (3.4)\r\n",
      "Requirement already satisfied: charset-normalizer<3,>=2 in /Users/yujiewang/anaconda3/lib/python3.9/site-packages (from requests->nba_api) (2.0.4)\r\n",
      "Installing collected packages: nba_api\r\n",
      "Successfully installed nba_api-1.2.1\r\n"
     ]
    }
   ],
   "source": [
    "!pip install nba_api"
   ]
  },
  {
   "cell_type": "code",
   "execution_count": 10,
   "metadata": {
    "pycharm": {
     "name": "#%%\n"
    }
   },
   "outputs": [],
   "source": [
    "from nba_api.stats.static import teams\n",
    "import matplotlib.pyplot as plt"
   ]
  },
  {
   "cell_type": "code",
   "execution_count": 11,
   "metadata": {
    "pycharm": {
     "name": "#%%\n"
    }
   },
   "outputs": [],
   "source": [
    "#https://pypi.org/project/nba-api/"
   ]
  },
  {
   "cell_type": "markdown",
   "metadata": {
    "pycharm": {
     "name": "#%% md\n"
    }
   },
   "source": [
    "The method <code>get_teams()</code> returns a list of dictionaries.\n"
   ]
  },
  {
   "cell_type": "code",
   "execution_count": 12,
   "metadata": {
    "pycharm": {
     "name": "#%%\n"
    }
   },
   "outputs": [],
   "source": [
    "nba_teams = teams.get_teams()"
   ]
  },
  {
   "cell_type": "markdown",
   "metadata": {
    "pycharm": {
     "name": "#%% md\n"
    }
   },
   "source": [
    "The dictionary key id has a unique identifier for each team as a value. Let's look at the first three elements of the list:\n"
   ]
  },
  {
   "cell_type": "code",
   "execution_count": 13,
   "metadata": {
    "pycharm": {
     "name": "#%%\n"
    }
   },
   "outputs": [
    {
     "data": {
      "text/plain": "[{'id': 1610612737,\n  'full_name': 'Atlanta Hawks',\n  'abbreviation': 'ATL',\n  'nickname': 'Hawks',\n  'city': 'Atlanta',\n  'state': 'Georgia',\n  'year_founded': 1949},\n {'id': 1610612738,\n  'full_name': 'Boston Celtics',\n  'abbreviation': 'BOS',\n  'nickname': 'Celtics',\n  'city': 'Boston',\n  'state': 'Massachusetts',\n  'year_founded': 1946},\n {'id': 1610612739,\n  'full_name': 'Cleveland Cavaliers',\n  'abbreviation': 'CLE',\n  'nickname': 'Cavaliers',\n  'city': 'Cleveland',\n  'state': 'Ohio',\n  'year_founded': 1970}]"
     },
     "execution_count": 13,
     "metadata": {},
     "output_type": "execute_result"
    }
   ],
   "source": [
    "nba_teams[0:3]"
   ]
  },
  {
   "cell_type": "markdown",
   "metadata": {
    "pycharm": {
     "name": "#%% md\n"
    }
   },
   "source": [
    "To make things easier, we can **convert the dictionary to a table**. First, we use the function <code>one dict</code>, to create a dictionary. We use the common keys for each team as the keys, the value is a list; each element of the list corresponds to the values for each team.\n",
    "We then convert the dictionary to a dataframe, each row contains the information for a different team.\n"
   ]
  },
  {
   "cell_type": "code",
   "execution_count": 15,
   "metadata": {
    "pycharm": {
     "name": "#%%\n"
    }
   },
   "outputs": [
    {
     "data": {
      "text/plain": "           id             full_name abbreviation   nickname         city   \n0  1610612737         Atlanta Hawks          ATL      Hawks      Atlanta  \\\n1  1610612738        Boston Celtics          BOS    Celtics       Boston   \n2  1610612739   Cleveland Cavaliers          CLE  Cavaliers    Cleveland   \n3  1610612740  New Orleans Pelicans          NOP   Pelicans  New Orleans   \n4  1610612741         Chicago Bulls          CHI      Bulls      Chicago   \n\n           state  year_founded  \n0        Georgia          1949  \n1  Massachusetts          1946  \n2           Ohio          1970  \n3      Louisiana          2002  \n4       Illinois          1966  ",
      "text/html": "<div>\n<style scoped>\n    .dataframe tbody tr th:only-of-type {\n        vertical-align: middle;\n    }\n\n    .dataframe tbody tr th {\n        vertical-align: top;\n    }\n\n    .dataframe thead th {\n        text-align: right;\n    }\n</style>\n<table border=\"1\" class=\"dataframe\">\n  <thead>\n    <tr style=\"text-align: right;\">\n      <th></th>\n      <th>id</th>\n      <th>full_name</th>\n      <th>abbreviation</th>\n      <th>nickname</th>\n      <th>city</th>\n      <th>state</th>\n      <th>year_founded</th>\n    </tr>\n  </thead>\n  <tbody>\n    <tr>\n      <th>0</th>\n      <td>1610612737</td>\n      <td>Atlanta Hawks</td>\n      <td>ATL</td>\n      <td>Hawks</td>\n      <td>Atlanta</td>\n      <td>Georgia</td>\n      <td>1949</td>\n    </tr>\n    <tr>\n      <th>1</th>\n      <td>1610612738</td>\n      <td>Boston Celtics</td>\n      <td>BOS</td>\n      <td>Celtics</td>\n      <td>Boston</td>\n      <td>Massachusetts</td>\n      <td>1946</td>\n    </tr>\n    <tr>\n      <th>2</th>\n      <td>1610612739</td>\n      <td>Cleveland Cavaliers</td>\n      <td>CLE</td>\n      <td>Cavaliers</td>\n      <td>Cleveland</td>\n      <td>Ohio</td>\n      <td>1970</td>\n    </tr>\n    <tr>\n      <th>3</th>\n      <td>1610612740</td>\n      <td>New Orleans Pelicans</td>\n      <td>NOP</td>\n      <td>Pelicans</td>\n      <td>New Orleans</td>\n      <td>Louisiana</td>\n      <td>2002</td>\n    </tr>\n    <tr>\n      <th>4</th>\n      <td>1610612741</td>\n      <td>Chicago Bulls</td>\n      <td>CHI</td>\n      <td>Bulls</td>\n      <td>Chicago</td>\n      <td>Illinois</td>\n      <td>1966</td>\n    </tr>\n  </tbody>\n</table>\n</div>"
     },
     "execution_count": 15,
     "metadata": {},
     "output_type": "execute_result"
    }
   ],
   "source": [
    "dict_nba_team=one_dict(nba_teams)\n",
    "df_teams=pd.DataFrame(dict_nba_team)\n",
    "df_teams.head()"
   ]
  },
  {
   "cell_type": "markdown",
   "metadata": {
    "pycharm": {
     "name": "#%% md\n"
    }
   },
   "source": [
    "Will use the team's nickname to find the unique id, we can see the row that contains the warriors by using the column nickname as follows:\n"
   ]
  },
  {
   "cell_type": "code",
   "execution_count": 17,
   "metadata": {
    "pycharm": {
     "name": "#%%\n"
    }
   },
   "outputs": [
    {
     "data": {
      "text/plain": "           id              full_name abbreviation  nickname          city   \n7  1610612744  Golden State Warriors          GSW  Warriors  Golden State  \\\n\n        state  year_founded  \n7  California          1946  ",
      "text/html": "<div>\n<style scoped>\n    .dataframe tbody tr th:only-of-type {\n        vertical-align: middle;\n    }\n\n    .dataframe tbody tr th {\n        vertical-align: top;\n    }\n\n    .dataframe thead th {\n        text-align: right;\n    }\n</style>\n<table border=\"1\" class=\"dataframe\">\n  <thead>\n    <tr style=\"text-align: right;\">\n      <th></th>\n      <th>id</th>\n      <th>full_name</th>\n      <th>abbreviation</th>\n      <th>nickname</th>\n      <th>city</th>\n      <th>state</th>\n      <th>year_founded</th>\n    </tr>\n  </thead>\n  <tbody>\n    <tr>\n      <th>7</th>\n      <td>1610612744</td>\n      <td>Golden State Warriors</td>\n      <td>GSW</td>\n      <td>Warriors</td>\n      <td>Golden State</td>\n      <td>California</td>\n      <td>1946</td>\n    </tr>\n  </tbody>\n</table>\n</div>"
     },
     "execution_count": 17,
     "metadata": {},
     "output_type": "execute_result"
    }
   ],
   "source": [
    "df_warriors=df_teams[df_teams['nickname']=='Warriors']\n",
    "df_warriors"
   ]
  },
  {
   "cell_type": "markdown",
   "metadata": {
    "pycharm": {
     "name": "#%% md\n"
    }
   },
   "source": [
    "we can use the following line of code to access the first column of the dataframe:\n"
   ]
  },
  {
   "cell_type": "code",
   "execution_count": 18,
   "metadata": {
    "pycharm": {
     "name": "#%%\n"
    }
   },
   "outputs": [
    {
     "data": {
      "text/plain": "1610612744"
     },
     "execution_count": 18,
     "metadata": {},
     "output_type": "execute_result"
    }
   ],
   "source": [
    "id_warriors=df_warriors[['id']].values[0][0]\n",
    "# we now have an integer that can be used to request the Warriors information \n",
    "id_warriors"
   ]
  },
  {
   "cell_type": "markdown",
   "metadata": {
    "pycharm": {
     "name": "#%% md\n"
    }
   },
   "source": [
    "The function \"League Game Finder \" will make an API call, it's in the module <code>stats.endpoints</code>\n"
   ]
  },
  {
   "cell_type": "code",
   "execution_count": 19,
   "metadata": {
    "pycharm": {
     "name": "#%%\n"
    }
   },
   "outputs": [],
   "source": [
    "from nba_api.stats.endpoints import leaguegamefinder"
   ]
  },
  {
   "cell_type": "markdown",
   "metadata": {
    "pycharm": {
     "name": "#%% md\n"
    }
   },
   "source": [
    "The parameter <code>team_id_nullable</code> is the unique ID for the warriors. Under the hood, the NBA API is making a HTTP request.\\\n",
    "The information requested is provided and is transmitted via an HTTP response this is assigned to the object <code>game finder</code>.\n"
   ]
  },
  {
   "cell_type": "code",
   "execution_count": 20,
   "metadata": {
    "pycharm": {
     "name": "#%%\n"
    }
   },
   "outputs": [],
   "source": [
    "# Since https://stats.nba.com does not allow api calls from Cloud IPs and Skills Network Labs uses a Cloud IP.\n",
    "# The following code is commented out, you can run it on jupyter labs on your own computer.\n",
    "# gamefinder = leaguegamefinder.LeagueGameFinder(team_id_nullable=id_warriors)"
   ]
  },
  {
   "cell_type": "markdown",
   "metadata": {
    "pycharm": {
     "name": "#%% md\n"
    }
   },
   "source": [
    "we can see the json file by running the following line of code.\n"
   ]
  },
  {
   "cell_type": "code",
   "execution_count": 21,
   "metadata": {
    "pycharm": {
     "name": "#%%\n"
    }
   },
   "outputs": [],
   "source": [
    "# Since https://stats.nba.com does not allow api calls from Cloud IPs and Skills Network Labs uses a Cloud IP.\n",
    "# The following code is commented out, you can run it on jupyter labs on your own computer.\n",
    "# gamefinder.get_json()"
   ]
  },
  {
   "cell_type": "markdown",
   "metadata": {
    "pycharm": {
     "name": "#%% md\n"
    }
   },
   "source": [
    "The game finder object has a method <code>get_data_frames()</code>, that returns a dataframe.  If we view the dataframe, we can see it contains information about all the games the Warriors played.  The <code>PLUS_MINUS</code> column contains information on the score, if the value is negative, the Warriors lost by that many points, if the value is positive, the warriors won by that amount of points. The column <code>MATCHUP</code> has the team the Warriors were playing, GSW stands for Golden State Warriors and TOR means Toronto Raptors. <code>vs</code> signifies it was a home game and the <code>@ </code>symbol means an away game.\n"
   ]
  },
  {
   "cell_type": "code",
   "execution_count": 22,
   "metadata": {
    "pycharm": {
     "name": "#%%\n"
    }
   },
   "outputs": [],
   "source": [
    "# Since https://stats.nba.com does not allow api calls from Cloud IPs and Skills Network Labs uses a Cloud IP.\n",
    "# The following code is comment out, you can run it on jupyter labs on your own computer.\n",
    "# games = gamefinder.get_data_frames()[0]\n",
    "# games.head()"
   ]
  },
  {
   "cell_type": "markdown",
   "metadata": {
    "pycharm": {
     "name": "#%% md\n"
    }
   },
   "source": [
    "you can download the dataframe from the API call for Golden State and run the rest like a video.\n"
   ]
  },
  {
   "cell_type": "code",
   "execution_count": 24,
   "metadata": {
    "pycharm": {
     "name": "#%%\n"
    }
   },
   "outputs": [],
   "source": [
    "import requests\n",
    "\n",
    "filename = \"https://s3-api.us-geo.objectstorage.softlayer.net/cf-courses-data/CognitiveClass/PY0101EN/Chapter%205/Labs/Golden_State.pkl\"\n",
    "\n",
    "def download(url, filename):\n",
    "    response = requests.get(url)\n",
    "    if response.status_code == 200:\n",
    "        with open(filename, \"wb\") as f:\n",
    "            f.write(response.content)\n",
    "\n",
    "download(filename, \"Golden_State.pkl\")\n"
   ]
  },
  {
   "cell_type": "code",
   "execution_count": 25,
   "metadata": {
    "pycharm": {
     "name": "#%%\n"
    }
   },
   "outputs": [
    {
     "data": {
      "text/plain": "  SEASON_ID     TEAM_ID TEAM_ABBREVIATION              TEAM_NAME     GAME_ID   \n0     22019  1610612744               GSW  Golden State Warriors  1521900066  \\\n1     22019  1610612744               GSW  Golden State Warriors  1521900058   \n2     22019  1610612744               GSW  Golden State Warriors  1521900039   \n3     22019  1610612744               GSW  Golden State Warriors  1521900020   \n4     22019  1610612744               GSW  Golden State Warriors  1521900007   \n\n    GAME_DATE      MATCHUP WL  MIN  PTS  ...  FT_PCT  OREB  DREB   REB  AST   \n0  2019-07-12  GSW vs. LAL  L  200   87  ...   0.800  13.0  29.0  42.0   13  \\\n1  2019-07-10    GSW @ DEN  W  201   73  ...   0.867   7.0  27.0  34.0   10   \n2  2019-07-08    GSW @ LAL  W  200   88  ...   0.621   8.0  29.0  37.0   21   \n3  2019-07-07  GSW vs. TOR  W  201   80  ...   0.923   6.0  37.0  43.0   18   \n4  2019-07-05  GSW vs. CHA  L  200   85  ...   0.889   8.0  28.0  36.0   19   \n\n    STL  BLK   TOV  PF  PLUS_MINUS  \n0  10.0    3  11.0  21         3.2  \n1  11.0    7  20.0  20        -8.0  \n2  10.0    4  13.0  22         8.0  \n3   8.0    3  20.0  25        10.0  \n4   9.0    3  13.0  15        -8.0  \n\n[5 rows x 28 columns]",
      "text/html": "<div>\n<style scoped>\n    .dataframe tbody tr th:only-of-type {\n        vertical-align: middle;\n    }\n\n    .dataframe tbody tr th {\n        vertical-align: top;\n    }\n\n    .dataframe thead th {\n        text-align: right;\n    }\n</style>\n<table border=\"1\" class=\"dataframe\">\n  <thead>\n    <tr style=\"text-align: right;\">\n      <th></th>\n      <th>SEASON_ID</th>\n      <th>TEAM_ID</th>\n      <th>TEAM_ABBREVIATION</th>\n      <th>TEAM_NAME</th>\n      <th>GAME_ID</th>\n      <th>GAME_DATE</th>\n      <th>MATCHUP</th>\n      <th>WL</th>\n      <th>MIN</th>\n      <th>PTS</th>\n      <th>...</th>\n      <th>FT_PCT</th>\n      <th>OREB</th>\n      <th>DREB</th>\n      <th>REB</th>\n      <th>AST</th>\n      <th>STL</th>\n      <th>BLK</th>\n      <th>TOV</th>\n      <th>PF</th>\n      <th>PLUS_MINUS</th>\n    </tr>\n  </thead>\n  <tbody>\n    <tr>\n      <th>0</th>\n      <td>22019</td>\n      <td>1610612744</td>\n      <td>GSW</td>\n      <td>Golden State Warriors</td>\n      <td>1521900066</td>\n      <td>2019-07-12</td>\n      <td>GSW vs. LAL</td>\n      <td>L</td>\n      <td>200</td>\n      <td>87</td>\n      <td>...</td>\n      <td>0.800</td>\n      <td>13.0</td>\n      <td>29.0</td>\n      <td>42.0</td>\n      <td>13</td>\n      <td>10.0</td>\n      <td>3</td>\n      <td>11.0</td>\n      <td>21</td>\n      <td>3.2</td>\n    </tr>\n    <tr>\n      <th>1</th>\n      <td>22019</td>\n      <td>1610612744</td>\n      <td>GSW</td>\n      <td>Golden State Warriors</td>\n      <td>1521900058</td>\n      <td>2019-07-10</td>\n      <td>GSW @ DEN</td>\n      <td>W</td>\n      <td>201</td>\n      <td>73</td>\n      <td>...</td>\n      <td>0.867</td>\n      <td>7.0</td>\n      <td>27.0</td>\n      <td>34.0</td>\n      <td>10</td>\n      <td>11.0</td>\n      <td>7</td>\n      <td>20.0</td>\n      <td>20</td>\n      <td>-8.0</td>\n    </tr>\n    <tr>\n      <th>2</th>\n      <td>22019</td>\n      <td>1610612744</td>\n      <td>GSW</td>\n      <td>Golden State Warriors</td>\n      <td>1521900039</td>\n      <td>2019-07-08</td>\n      <td>GSW @ LAL</td>\n      <td>W</td>\n      <td>200</td>\n      <td>88</td>\n      <td>...</td>\n      <td>0.621</td>\n      <td>8.0</td>\n      <td>29.0</td>\n      <td>37.0</td>\n      <td>21</td>\n      <td>10.0</td>\n      <td>4</td>\n      <td>13.0</td>\n      <td>22</td>\n      <td>8.0</td>\n    </tr>\n    <tr>\n      <th>3</th>\n      <td>22019</td>\n      <td>1610612744</td>\n      <td>GSW</td>\n      <td>Golden State Warriors</td>\n      <td>1521900020</td>\n      <td>2019-07-07</td>\n      <td>GSW vs. TOR</td>\n      <td>W</td>\n      <td>201</td>\n      <td>80</td>\n      <td>...</td>\n      <td>0.923</td>\n      <td>6.0</td>\n      <td>37.0</td>\n      <td>43.0</td>\n      <td>18</td>\n      <td>8.0</td>\n      <td>3</td>\n      <td>20.0</td>\n      <td>25</td>\n      <td>10.0</td>\n    </tr>\n    <tr>\n      <th>4</th>\n      <td>22019</td>\n      <td>1610612744</td>\n      <td>GSW</td>\n      <td>Golden State Warriors</td>\n      <td>1521900007</td>\n      <td>2019-07-05</td>\n      <td>GSW vs. CHA</td>\n      <td>L</td>\n      <td>200</td>\n      <td>85</td>\n      <td>...</td>\n      <td>0.889</td>\n      <td>8.0</td>\n      <td>28.0</td>\n      <td>36.0</td>\n      <td>19</td>\n      <td>9.0</td>\n      <td>3</td>\n      <td>13.0</td>\n      <td>15</td>\n      <td>-8.0</td>\n    </tr>\n  </tbody>\n</table>\n<p>5 rows × 28 columns</p>\n</div>"
     },
     "execution_count": 25,
     "metadata": {},
     "output_type": "execute_result"
    }
   ],
   "source": [
    "file_name = \"Golden_State.pkl\"\n",
    "games = pd.read_pickle(file_name)\n",
    "games.head()"
   ]
  },
  {
   "cell_type": "markdown",
   "metadata": {
    "pycharm": {
     "name": "#%% md\n"
    }
   },
   "source": [
    "We can create two dataframes, one for the games that the Warriors faced the raptors at home, and the second for away games.\n"
   ]
  },
  {
   "cell_type": "code",
   "execution_count": 28,
   "metadata": {
    "pycharm": {
     "name": "#%%\n"
    }
   },
   "outputs": [],
   "source": [
    "games_home=games [games ['MATCHUP']=='GSW vs. TOR']\n",
    "games_away=games [games ['MATCHUP']=='GSW @ TOR']"
   ]
  },
  {
   "cell_type": "code",
   "execution_count": 33,
   "outputs": [
    {
     "data": {
      "text/plain": "     SEASON_ID     TEAM_ID TEAM_ABBREVIATION              TEAM_NAME   \n3        22019  1610612744               GSW  Golden State Warriors  \\\n8        42018  1610612744               GSW  Golden State Warriors   \n10       42018  1610612744               GSW  Golden State Warriors   \n11       42018  1610612744               GSW  Golden State Warriors   \n83       22018  1610612744               GSW  Golden State Warriors   \n223      22017  1610612744               GSW  Golden State Warriors   \n304      22016  1610612744               GSW  Golden State Warriors   \n444      22015  1610612744               GSW  Golden State Warriors   \n462      12015  1610612744               GSW  Golden State Warriors   \n541      22014  1610612744               GSW  Golden State Warriors   \n655      22013  1610612744               GSW  Golden State Warriors   \n721      22012  1610612744               GSW  Golden State Warriors   \n872      22010  1610612744               GSW  Golden State Warriors   \n975      22009  1610612744               GSW  Golden State Warriors   \n1102     22008  1610612744               GSW  Golden State Warriors   \n1166     22007  1610612744               GSW  Golden State Warriors   \n1325     22006  1610612744               GSW  Golden State Warriors   \n1407     22005  1610612744               GSW  Golden State Warriors   \n1482     22004  1610612744               GSW  Golden State Warriors   \n1547     22003  1610612744               GSW  Golden State Warriors   \n1650     22002  1610612744               GSW  Golden State Warriors   \n1751     22001  1610612744               GSW  Golden State Warriors   \n1822     22000  1610612744               GSW  Golden State Warriors   \n1912     21999  1610612744               GSW  Golden State Warriors   \n1992     21997  1610612744               GSW  Golden State Warriors   \n2074     21996  1610612744               GSW  Golden State Warriors   \n\n         GAME_ID   GAME_DATE      MATCHUP WL  MIN  PTS  ...  FT_PCT  OREB   \n3     1521900020  2019-07-07  GSW vs. TOR  W  201   80  ...   0.923   6.0  \\\n8     0041800406  2019-06-13  GSW vs. TOR  L  240  110  ...   0.700  11.0   \n10    0041800404  2019-06-07  GSW vs. TOR  L  241   92  ...   0.667   8.0   \n11    0041800403  2019-06-05  GSW vs. TOR  L  241  109  ...   0.833  13.0   \n83    0021800415  2018-12-12  GSW vs. TOR  L  239   93  ...   0.692   5.0   \n223   0021700063  2017-10-25  GSW vs. TOR  W  241  117  ...   0.864   6.0   \n304   0021600485  2016-12-28  GSW vs. TOR  W  240  121  ...   0.833   9.0   \n444   0021500164  2015-11-17  GSW vs. TOR  W  239  115  ...   0.667   9.0   \n462   0011500009  2015-10-05  GSW vs. TOR  W  240   95  ...   0.750   4.0   \n541   0021400493  2015-01-02  GSW vs. TOR  W  240  126  ...   0.800  14.0   \n655   0021300268  2013-12-03  GSW vs. TOR  W  239  112  ...   0.800   9.0   \n721   0021200895  2013-03-04  GSW vs. TOR  W  240  125  ...   0.821   6.0   \n872   0021001079  2011-03-25  GSW vs. TOR  W  239  138  ...   0.813   7.0   \n975   0020900982  2010-03-13  GSW vs. TOR  W  239  124  ...   0.818  18.0   \n1102  0020800457  2008-12-29  GSW vs. TOR  W  242  117  ...   0.879   6.0   \n1166  0020700962  2008-03-12  GSW vs. TOR  W  243  117  ...   0.778  11.0   \n1325  0020600107  2006-11-14  GSW vs. TOR  W  240  110  ...   0.652  14.0   \n1407  0020500189  2005-11-26  GSW vs. TOR  W  240  117  ...   0.750  10.0   \n1482  0020400416  2004-12-29  GSW vs. TOR  W  240  111  ...   0.857   9.0   \n1547  0020300735  2004-02-08  GSW vs. TOR  L  265   81  ...   0.621   8.0   \n1650  0020200416  2002-12-27  GSW vs. TOR  W  239  101  ...   0.939  19.0   \n1751  0020100115  2001-11-14  GSW vs. TOR  L  240   82  ...   0.667  20.0   \n1822  0020000281  2000-12-08  GSW vs. TOR  L  239   92  ...   0.630  18.0   \n1912  0029900193  1999-11-27  GSW vs. TOR  L  240   88  ...   0.706  20.0   \n1992  0029700925  1998-03-15  GSW vs. TOR  L  264   98  ...   0.583  26.0   \n2074  0029600927  1997-03-15  GSW vs. TOR  W  241  106  ...   0.708  16.0   \n\n      DREB   REB  AST   STL  BLK   TOV  PF  PLUS_MINUS  \n3     37.0  43.0   18   8.0    3  20.0  25        10.0  \n8     31.0  42.0   28   9.0    6  16.0  23        -4.0  \n10    34.0  42.0   26   6.0    6  17.0  23       -13.0  \n11    28.0  41.0   25   8.0    3  14.0  21       -14.0  \n83    35.0  40.0   28   5.0   11  19.0  18       -20.0  \n223   31.0  37.0   32  10.0    7  17.0  15         5.0  \n304   42.0  51.0   33   4.0    9  20.0  16        10.0  \n444   25.0  34.0   31  10.0    6  20.0  29         5.0  \n462   33.0  37.0   29   8.0    7  17.0  22         8.0  \n541   31.0  45.0   35   8.0    8   9.0  18        21.0  \n655   27.0  36.0   27  11.0    2  12.0  16         9.0  \n721   32.0  38.0   33   3.0    4  14.0  27         7.0  \n872   33.0  40.0   33  12.0    5  10.0  22        38.0  \n975   24.0  42.0   22  11.0    1  11.0  16        12.0  \n1102  31.0  37.0   26   8.0    9  12.0  23         6.0  \n1166  29.0  40.0   32   7.0    4  12.0  22        11.0  \n1325  28.0  42.0   27   7.0    5  11.0  25        11.0  \n1407  35.0  45.0   37   5.0    4  16.0  20        26.0  \n1482  31.0  40.0   24   7.0    4  17.0  22         6.0  \n1547  41.0  49.0   15   5.0    5  18.0  17        -3.0  \n1650  36.0  55.0   16   5.0    4  19.0  23         5.0  \n1751  39.0  59.0   17   6.0   10  17.0  20        -7.0  \n1822  18.0  36.0   23   6.0    4  20.0  25       -16.0  \n1912  34.0  54.0   22   4.0    5  19.0  16       -18.0  \n1992  42.0  68.0   20   7.0    7  16.0  22        -2.0  \n2074  30.0  46.0   30   5.0    2  13.0  17         4.0  \n\n[26 rows x 28 columns]",
      "text/html": "<div>\n<style scoped>\n    .dataframe tbody tr th:only-of-type {\n        vertical-align: middle;\n    }\n\n    .dataframe tbody tr th {\n        vertical-align: top;\n    }\n\n    .dataframe thead th {\n        text-align: right;\n    }\n</style>\n<table border=\"1\" class=\"dataframe\">\n  <thead>\n    <tr style=\"text-align: right;\">\n      <th></th>\n      <th>SEASON_ID</th>\n      <th>TEAM_ID</th>\n      <th>TEAM_ABBREVIATION</th>\n      <th>TEAM_NAME</th>\n      <th>GAME_ID</th>\n      <th>GAME_DATE</th>\n      <th>MATCHUP</th>\n      <th>WL</th>\n      <th>MIN</th>\n      <th>PTS</th>\n      <th>...</th>\n      <th>FT_PCT</th>\n      <th>OREB</th>\n      <th>DREB</th>\n      <th>REB</th>\n      <th>AST</th>\n      <th>STL</th>\n      <th>BLK</th>\n      <th>TOV</th>\n      <th>PF</th>\n      <th>PLUS_MINUS</th>\n    </tr>\n  </thead>\n  <tbody>\n    <tr>\n      <th>3</th>\n      <td>22019</td>\n      <td>1610612744</td>\n      <td>GSW</td>\n      <td>Golden State Warriors</td>\n      <td>1521900020</td>\n      <td>2019-07-07</td>\n      <td>GSW vs. TOR</td>\n      <td>W</td>\n      <td>201</td>\n      <td>80</td>\n      <td>...</td>\n      <td>0.923</td>\n      <td>6.0</td>\n      <td>37.0</td>\n      <td>43.0</td>\n      <td>18</td>\n      <td>8.0</td>\n      <td>3</td>\n      <td>20.0</td>\n      <td>25</td>\n      <td>10.0</td>\n    </tr>\n    <tr>\n      <th>8</th>\n      <td>42018</td>\n      <td>1610612744</td>\n      <td>GSW</td>\n      <td>Golden State Warriors</td>\n      <td>0041800406</td>\n      <td>2019-06-13</td>\n      <td>GSW vs. TOR</td>\n      <td>L</td>\n      <td>240</td>\n      <td>110</td>\n      <td>...</td>\n      <td>0.700</td>\n      <td>11.0</td>\n      <td>31.0</td>\n      <td>42.0</td>\n      <td>28</td>\n      <td>9.0</td>\n      <td>6</td>\n      <td>16.0</td>\n      <td>23</td>\n      <td>-4.0</td>\n    </tr>\n    <tr>\n      <th>10</th>\n      <td>42018</td>\n      <td>1610612744</td>\n      <td>GSW</td>\n      <td>Golden State Warriors</td>\n      <td>0041800404</td>\n      <td>2019-06-07</td>\n      <td>GSW vs. TOR</td>\n      <td>L</td>\n      <td>241</td>\n      <td>92</td>\n      <td>...</td>\n      <td>0.667</td>\n      <td>8.0</td>\n      <td>34.0</td>\n      <td>42.0</td>\n      <td>26</td>\n      <td>6.0</td>\n      <td>6</td>\n      <td>17.0</td>\n      <td>23</td>\n      <td>-13.0</td>\n    </tr>\n    <tr>\n      <th>11</th>\n      <td>42018</td>\n      <td>1610612744</td>\n      <td>GSW</td>\n      <td>Golden State Warriors</td>\n      <td>0041800403</td>\n      <td>2019-06-05</td>\n      <td>GSW vs. TOR</td>\n      <td>L</td>\n      <td>241</td>\n      <td>109</td>\n      <td>...</td>\n      <td>0.833</td>\n      <td>13.0</td>\n      <td>28.0</td>\n      <td>41.0</td>\n      <td>25</td>\n      <td>8.0</td>\n      <td>3</td>\n      <td>14.0</td>\n      <td>21</td>\n      <td>-14.0</td>\n    </tr>\n    <tr>\n      <th>83</th>\n      <td>22018</td>\n      <td>1610612744</td>\n      <td>GSW</td>\n      <td>Golden State Warriors</td>\n      <td>0021800415</td>\n      <td>2018-12-12</td>\n      <td>GSW vs. TOR</td>\n      <td>L</td>\n      <td>239</td>\n      <td>93</td>\n      <td>...</td>\n      <td>0.692</td>\n      <td>5.0</td>\n      <td>35.0</td>\n      <td>40.0</td>\n      <td>28</td>\n      <td>5.0</td>\n      <td>11</td>\n      <td>19.0</td>\n      <td>18</td>\n      <td>-20.0</td>\n    </tr>\n    <tr>\n      <th>223</th>\n      <td>22017</td>\n      <td>1610612744</td>\n      <td>GSW</td>\n      <td>Golden State Warriors</td>\n      <td>0021700063</td>\n      <td>2017-10-25</td>\n      <td>GSW vs. TOR</td>\n      <td>W</td>\n      <td>241</td>\n      <td>117</td>\n      <td>...</td>\n      <td>0.864</td>\n      <td>6.0</td>\n      <td>31.0</td>\n      <td>37.0</td>\n      <td>32</td>\n      <td>10.0</td>\n      <td>7</td>\n      <td>17.0</td>\n      <td>15</td>\n      <td>5.0</td>\n    </tr>\n    <tr>\n      <th>304</th>\n      <td>22016</td>\n      <td>1610612744</td>\n      <td>GSW</td>\n      <td>Golden State Warriors</td>\n      <td>0021600485</td>\n      <td>2016-12-28</td>\n      <td>GSW vs. TOR</td>\n      <td>W</td>\n      <td>240</td>\n      <td>121</td>\n      <td>...</td>\n      <td>0.833</td>\n      <td>9.0</td>\n      <td>42.0</td>\n      <td>51.0</td>\n      <td>33</td>\n      <td>4.0</td>\n      <td>9</td>\n      <td>20.0</td>\n      <td>16</td>\n      <td>10.0</td>\n    </tr>\n    <tr>\n      <th>444</th>\n      <td>22015</td>\n      <td>1610612744</td>\n      <td>GSW</td>\n      <td>Golden State Warriors</td>\n      <td>0021500164</td>\n      <td>2015-11-17</td>\n      <td>GSW vs. TOR</td>\n      <td>W</td>\n      <td>239</td>\n      <td>115</td>\n      <td>...</td>\n      <td>0.667</td>\n      <td>9.0</td>\n      <td>25.0</td>\n      <td>34.0</td>\n      <td>31</td>\n      <td>10.0</td>\n      <td>6</td>\n      <td>20.0</td>\n      <td>29</td>\n      <td>5.0</td>\n    </tr>\n    <tr>\n      <th>462</th>\n      <td>12015</td>\n      <td>1610612744</td>\n      <td>GSW</td>\n      <td>Golden State Warriors</td>\n      <td>0011500009</td>\n      <td>2015-10-05</td>\n      <td>GSW vs. TOR</td>\n      <td>W</td>\n      <td>240</td>\n      <td>95</td>\n      <td>...</td>\n      <td>0.750</td>\n      <td>4.0</td>\n      <td>33.0</td>\n      <td>37.0</td>\n      <td>29</td>\n      <td>8.0</td>\n      <td>7</td>\n      <td>17.0</td>\n      <td>22</td>\n      <td>8.0</td>\n    </tr>\n    <tr>\n      <th>541</th>\n      <td>22014</td>\n      <td>1610612744</td>\n      <td>GSW</td>\n      <td>Golden State Warriors</td>\n      <td>0021400493</td>\n      <td>2015-01-02</td>\n      <td>GSW vs. TOR</td>\n      <td>W</td>\n      <td>240</td>\n      <td>126</td>\n      <td>...</td>\n      <td>0.800</td>\n      <td>14.0</td>\n      <td>31.0</td>\n      <td>45.0</td>\n      <td>35</td>\n      <td>8.0</td>\n      <td>8</td>\n      <td>9.0</td>\n      <td>18</td>\n      <td>21.0</td>\n    </tr>\n    <tr>\n      <th>655</th>\n      <td>22013</td>\n      <td>1610612744</td>\n      <td>GSW</td>\n      <td>Golden State Warriors</td>\n      <td>0021300268</td>\n      <td>2013-12-03</td>\n      <td>GSW vs. TOR</td>\n      <td>W</td>\n      <td>239</td>\n      <td>112</td>\n      <td>...</td>\n      <td>0.800</td>\n      <td>9.0</td>\n      <td>27.0</td>\n      <td>36.0</td>\n      <td>27</td>\n      <td>11.0</td>\n      <td>2</td>\n      <td>12.0</td>\n      <td>16</td>\n      <td>9.0</td>\n    </tr>\n    <tr>\n      <th>721</th>\n      <td>22012</td>\n      <td>1610612744</td>\n      <td>GSW</td>\n      <td>Golden State Warriors</td>\n      <td>0021200895</td>\n      <td>2013-03-04</td>\n      <td>GSW vs. TOR</td>\n      <td>W</td>\n      <td>240</td>\n      <td>125</td>\n      <td>...</td>\n      <td>0.821</td>\n      <td>6.0</td>\n      <td>32.0</td>\n      <td>38.0</td>\n      <td>33</td>\n      <td>3.0</td>\n      <td>4</td>\n      <td>14.0</td>\n      <td>27</td>\n      <td>7.0</td>\n    </tr>\n    <tr>\n      <th>872</th>\n      <td>22010</td>\n      <td>1610612744</td>\n      <td>GSW</td>\n      <td>Golden State Warriors</td>\n      <td>0021001079</td>\n      <td>2011-03-25</td>\n      <td>GSW vs. TOR</td>\n      <td>W</td>\n      <td>239</td>\n      <td>138</td>\n      <td>...</td>\n      <td>0.813</td>\n      <td>7.0</td>\n      <td>33.0</td>\n      <td>40.0</td>\n      <td>33</td>\n      <td>12.0</td>\n      <td>5</td>\n      <td>10.0</td>\n      <td>22</td>\n      <td>38.0</td>\n    </tr>\n    <tr>\n      <th>975</th>\n      <td>22009</td>\n      <td>1610612744</td>\n      <td>GSW</td>\n      <td>Golden State Warriors</td>\n      <td>0020900982</td>\n      <td>2010-03-13</td>\n      <td>GSW vs. TOR</td>\n      <td>W</td>\n      <td>239</td>\n      <td>124</td>\n      <td>...</td>\n      <td>0.818</td>\n      <td>18.0</td>\n      <td>24.0</td>\n      <td>42.0</td>\n      <td>22</td>\n      <td>11.0</td>\n      <td>1</td>\n      <td>11.0</td>\n      <td>16</td>\n      <td>12.0</td>\n    </tr>\n    <tr>\n      <th>1102</th>\n      <td>22008</td>\n      <td>1610612744</td>\n      <td>GSW</td>\n      <td>Golden State Warriors</td>\n      <td>0020800457</td>\n      <td>2008-12-29</td>\n      <td>GSW vs. TOR</td>\n      <td>W</td>\n      <td>242</td>\n      <td>117</td>\n      <td>...</td>\n      <td>0.879</td>\n      <td>6.0</td>\n      <td>31.0</td>\n      <td>37.0</td>\n      <td>26</td>\n      <td>8.0</td>\n      <td>9</td>\n      <td>12.0</td>\n      <td>23</td>\n      <td>6.0</td>\n    </tr>\n    <tr>\n      <th>1166</th>\n      <td>22007</td>\n      <td>1610612744</td>\n      <td>GSW</td>\n      <td>Golden State Warriors</td>\n      <td>0020700962</td>\n      <td>2008-03-12</td>\n      <td>GSW vs. TOR</td>\n      <td>W</td>\n      <td>243</td>\n      <td>117</td>\n      <td>...</td>\n      <td>0.778</td>\n      <td>11.0</td>\n      <td>29.0</td>\n      <td>40.0</td>\n      <td>32</td>\n      <td>7.0</td>\n      <td>4</td>\n      <td>12.0</td>\n      <td>22</td>\n      <td>11.0</td>\n    </tr>\n    <tr>\n      <th>1325</th>\n      <td>22006</td>\n      <td>1610612744</td>\n      <td>GSW</td>\n      <td>Golden State Warriors</td>\n      <td>0020600107</td>\n      <td>2006-11-14</td>\n      <td>GSW vs. TOR</td>\n      <td>W</td>\n      <td>240</td>\n      <td>110</td>\n      <td>...</td>\n      <td>0.652</td>\n      <td>14.0</td>\n      <td>28.0</td>\n      <td>42.0</td>\n      <td>27</td>\n      <td>7.0</td>\n      <td>5</td>\n      <td>11.0</td>\n      <td>25</td>\n      <td>11.0</td>\n    </tr>\n    <tr>\n      <th>1407</th>\n      <td>22005</td>\n      <td>1610612744</td>\n      <td>GSW</td>\n      <td>Golden State Warriors</td>\n      <td>0020500189</td>\n      <td>2005-11-26</td>\n      <td>GSW vs. TOR</td>\n      <td>W</td>\n      <td>240</td>\n      <td>117</td>\n      <td>...</td>\n      <td>0.750</td>\n      <td>10.0</td>\n      <td>35.0</td>\n      <td>45.0</td>\n      <td>37</td>\n      <td>5.0</td>\n      <td>4</td>\n      <td>16.0</td>\n      <td>20</td>\n      <td>26.0</td>\n    </tr>\n    <tr>\n      <th>1482</th>\n      <td>22004</td>\n      <td>1610612744</td>\n      <td>GSW</td>\n      <td>Golden State Warriors</td>\n      <td>0020400416</td>\n      <td>2004-12-29</td>\n      <td>GSW vs. TOR</td>\n      <td>W</td>\n      <td>240</td>\n      <td>111</td>\n      <td>...</td>\n      <td>0.857</td>\n      <td>9.0</td>\n      <td>31.0</td>\n      <td>40.0</td>\n      <td>24</td>\n      <td>7.0</td>\n      <td>4</td>\n      <td>17.0</td>\n      <td>22</td>\n      <td>6.0</td>\n    </tr>\n    <tr>\n      <th>1547</th>\n      <td>22003</td>\n      <td>1610612744</td>\n      <td>GSW</td>\n      <td>Golden State Warriors</td>\n      <td>0020300735</td>\n      <td>2004-02-08</td>\n      <td>GSW vs. TOR</td>\n      <td>L</td>\n      <td>265</td>\n      <td>81</td>\n      <td>...</td>\n      <td>0.621</td>\n      <td>8.0</td>\n      <td>41.0</td>\n      <td>49.0</td>\n      <td>15</td>\n      <td>5.0</td>\n      <td>5</td>\n      <td>18.0</td>\n      <td>17</td>\n      <td>-3.0</td>\n    </tr>\n    <tr>\n      <th>1650</th>\n      <td>22002</td>\n      <td>1610612744</td>\n      <td>GSW</td>\n      <td>Golden State Warriors</td>\n      <td>0020200416</td>\n      <td>2002-12-27</td>\n      <td>GSW vs. TOR</td>\n      <td>W</td>\n      <td>239</td>\n      <td>101</td>\n      <td>...</td>\n      <td>0.939</td>\n      <td>19.0</td>\n      <td>36.0</td>\n      <td>55.0</td>\n      <td>16</td>\n      <td>5.0</td>\n      <td>4</td>\n      <td>19.0</td>\n      <td>23</td>\n      <td>5.0</td>\n    </tr>\n    <tr>\n      <th>1751</th>\n      <td>22001</td>\n      <td>1610612744</td>\n      <td>GSW</td>\n      <td>Golden State Warriors</td>\n      <td>0020100115</td>\n      <td>2001-11-14</td>\n      <td>GSW vs. TOR</td>\n      <td>L</td>\n      <td>240</td>\n      <td>82</td>\n      <td>...</td>\n      <td>0.667</td>\n      <td>20.0</td>\n      <td>39.0</td>\n      <td>59.0</td>\n      <td>17</td>\n      <td>6.0</td>\n      <td>10</td>\n      <td>17.0</td>\n      <td>20</td>\n      <td>-7.0</td>\n    </tr>\n    <tr>\n      <th>1822</th>\n      <td>22000</td>\n      <td>1610612744</td>\n      <td>GSW</td>\n      <td>Golden State Warriors</td>\n      <td>0020000281</td>\n      <td>2000-12-08</td>\n      <td>GSW vs. TOR</td>\n      <td>L</td>\n      <td>239</td>\n      <td>92</td>\n      <td>...</td>\n      <td>0.630</td>\n      <td>18.0</td>\n      <td>18.0</td>\n      <td>36.0</td>\n      <td>23</td>\n      <td>6.0</td>\n      <td>4</td>\n      <td>20.0</td>\n      <td>25</td>\n      <td>-16.0</td>\n    </tr>\n    <tr>\n      <th>1912</th>\n      <td>21999</td>\n      <td>1610612744</td>\n      <td>GSW</td>\n      <td>Golden State Warriors</td>\n      <td>0029900193</td>\n      <td>1999-11-27</td>\n      <td>GSW vs. TOR</td>\n      <td>L</td>\n      <td>240</td>\n      <td>88</td>\n      <td>...</td>\n      <td>0.706</td>\n      <td>20.0</td>\n      <td>34.0</td>\n      <td>54.0</td>\n      <td>22</td>\n      <td>4.0</td>\n      <td>5</td>\n      <td>19.0</td>\n      <td>16</td>\n      <td>-18.0</td>\n    </tr>\n    <tr>\n      <th>1992</th>\n      <td>21997</td>\n      <td>1610612744</td>\n      <td>GSW</td>\n      <td>Golden State Warriors</td>\n      <td>0029700925</td>\n      <td>1998-03-15</td>\n      <td>GSW vs. TOR</td>\n      <td>L</td>\n      <td>264</td>\n      <td>98</td>\n      <td>...</td>\n      <td>0.583</td>\n      <td>26.0</td>\n      <td>42.0</td>\n      <td>68.0</td>\n      <td>20</td>\n      <td>7.0</td>\n      <td>7</td>\n      <td>16.0</td>\n      <td>22</td>\n      <td>-2.0</td>\n    </tr>\n    <tr>\n      <th>2074</th>\n      <td>21996</td>\n      <td>1610612744</td>\n      <td>GSW</td>\n      <td>Golden State Warriors</td>\n      <td>0029600927</td>\n      <td>1997-03-15</td>\n      <td>GSW vs. TOR</td>\n      <td>W</td>\n      <td>241</td>\n      <td>106</td>\n      <td>...</td>\n      <td>0.708</td>\n      <td>16.0</td>\n      <td>30.0</td>\n      <td>46.0</td>\n      <td>30</td>\n      <td>5.0</td>\n      <td>2</td>\n      <td>13.0</td>\n      <td>17</td>\n      <td>4.0</td>\n    </tr>\n  </tbody>\n</table>\n<p>26 rows × 28 columns</p>\n</div>"
     },
     "execution_count": 33,
     "metadata": {},
     "output_type": "execute_result"
    }
   ],
   "source": [
    "games_home"
   ],
   "metadata": {
    "collapsed": false,
    "pycharm": {
     "name": "#%%\n"
    }
   }
  },
  {
   "cell_type": "code",
   "execution_count": 34,
   "outputs": [
    {
     "data": {
      "text/plain": "     SEASON_ID     TEAM_ID TEAM_ABBREVIATION              TEAM_NAME   \n9        42018  1610612744               GSW  Golden State Warriors  \\\n12       42018  1610612744               GSW  Golden State Warriors   \n13       42018  1610612744               GSW  Golden State Warriors   \n89       22018  1610612744               GSW  Golden State Warriors   \n184      22017  1610612744               GSW  Golden State Warriors   \n326      22016  1610612744               GSW  Golden State Warriors   \n343      12016  1610612744               GSW  Golden State Warriors   \n345      22016  1610612744               GSW  Golden State Warriors   \n435      22015  1610612744               GSW  Golden State Warriors   \n516      22014  1610612744               GSW  Golden State Warriors   \n614      22013  1610612744               GSW  Golden State Warriors   \n738      22012  1610612744               GSW  Golden State Warriors   \n827      22011  1610612744               GSW  Golden State Warriors   \n938      22010  1610612744               GSW  Golden State Warriors   \n964      22009  1610612744               GSW  Golden State Warriors   \n1133     22008  1610612744               GSW  Golden State Warriors   \n1141     22008  1610612744               GSW  Golden State Warriors   \n1221     22007  1610612744               GSW  Golden State Warriors   \n1308     22006  1610612744               GSW  Golden State Warriors   \n1399     22005  1610612744               GSW  Golden State Warriors   \n1477     22004  1610612744               GSW  Golden State Warriors   \n1522     22003  1610612744               GSW  Golden State Warriors   \n1627     22002  1610612744               GSW  Golden State Warriors   \n1755     22001  1610612744               GSW  Golden State Warriors   \n1789     22000  1610612744               GSW  Golden State Warriors   \n1861     21999  1610612744               GSW  Golden State Warriors   \n2053     21997  1610612744               GSW  Golden State Warriors   \n2117     21996  1610612744               GSW  Golden State Warriors   \n\n         GAME_ID   GAME_DATE    MATCHUP WL  MIN  PTS  ...  FT_PCT  OREB  DREB   \n9     0041800405  2019-06-10  GSW @ TOR  W  240  106  ...   0.714   6.0  31.0  \\\n12    0041800402  2019-06-02  GSW @ TOR  W  240  109  ...   0.870   6.0  36.0   \n13    0041800401  2019-05-30  GSW @ TOR  L  239  109  ...   0.935   9.0  29.0   \n89    0021800316  2018-11-29  GSW @ TOR  L  265  128  ...   0.850  17.0  29.0   \n184   0021700631  2018-01-13  GSW @ TOR  W  239  127  ...   0.857   3.0  27.0   \n326   0021600165  2016-11-16  GSW @ TOR  W  240  127  ...   0.929   7.0  28.0   \n343   0011600001  2016-10-01  GSW @ TOR  L  241   93  ...   0.625   9.0  33.0   \n345   1521600051  2016-07-14  GSW @ TOR  L  198   69  ...   0.750  14.0  29.0   \n435   0021500290  2015-12-05  GSW @ TOR  W  239  112  ...   0.722   8.0  35.0   \n516   0021400861  2015-02-27  GSW @ TOR  W  240  113  ...   0.842   9.0  38.0   \n614   0021300884  2014-03-02  GSW @ TOR  L  240   98  ...   0.800  16.0  25.0   \n738   0021200659  2013-01-28  GSW @ TOR  W  240  114  ...   0.800  13.0  36.0   \n827   0021100548  2012-03-04  GSW @ TOR  L  241   75  ...   0.684  10.0  31.0   \n938   0021000097  2010-11-08  GSW @ TOR  W  239  109  ...   0.813  11.0  31.0   \n964   0020901145  2010-04-04  GSW @ TOR  W  240  113  ...   0.720   7.0  33.0   \n1133  0020800020  2008-10-31  GSW @ TOR  L  266  108  ...   0.684  17.0  29.0   \n1141  1520800043  2008-07-19  GSW @ TOR  W  201   95  ...   0.781  19.0  19.0   \n1221  0020700141  2007-11-18  GSW @ TOR  W  239  106  ...   0.667  12.0  35.0   \n1308  0020600351  2006-12-17  GSW @ TOR  L  240  115  ...   0.880   8.0  30.0   \n1399  0020500322  2005-12-16  GSW @ TOR  W  240  108  ...   0.652   6.0  27.0   \n1477  0020400487  2005-01-09  GSW @ TOR  L  240   87  ...   0.917  10.0  29.0   \n1522  0020301081  2004-03-31  GSW @ TOR  W  240   85  ...   0.714  10.0  35.0   \n1627  0020200732  2003-02-14  GSW @ TOR  W  264  118  ...   0.818  16.0  37.0   \n1755  0020100064  2001-11-07  GSW @ TOR  L  240   92  ...   0.732  20.0  32.0   \n1789  0020000765  2001-02-20  GSW @ TOR  L  240  102  ...   0.600  17.0  26.0   \n1861  0029900911  2000-03-14  GSW @ TOR  L  240   78  ...   0.462  16.0  31.0   \n2053  0029700034  1997-11-04  GSW @ TOR  L  241   86  ...   0.517  23.0  35.0   \n2117  0029600277  1996-12-10  GSW @ TOR  W  239  101  ...   0.842  22.0  29.0   \n\n       REB  AST   STL  BLK   TOV  PF  PLUS_MINUS  \n9     37.0   27   5.0    7  15.0  22         1.0  \n12    42.0   34   7.0    5  15.0  26         5.0  \n13    38.0   29   6.0    2  16.0  27        -9.0  \n89    46.0   27   6.0    5  14.0  22        -3.0  \n184   30.0   28   4.0    3   6.0  20         2.0  \n326   35.0   33   9.0    7  12.0  25         6.0  \n343   42.0   19  15.0    7  21.0  24        -4.0  \n345   43.0   16   9.0    3  17.0  25        -6.0  \n435   43.0   22   2.0    5  12.0  24         3.0  \n516   47.0   31  11.0    5  12.0  22        24.0  \n614   41.0   25   5.0    5  13.0  22        -6.0  \n738   49.0   22   4.0    8  13.0  19        12.0  \n827   41.0   17   6.0    3  12.0  20        -8.0  \n938   42.0   19  13.0    7  20.0  26         7.0  \n964   40.0   31   7.0    3  13.0  28         1.0  \n1133  46.0   20   6.0    6  18.0  25        -4.0  \n1141  38.0   15  10.0    5  17.0  26         5.0  \n1221  47.0   20   5.0    3  17.0  22         6.0  \n1308  38.0   23   3.0    2  17.0  27        -5.0  \n1399  33.0   27  10.0    1  11.0  23        10.0  \n1477  39.0   17   5.0    4  16.0  12       -22.0  \n1522  45.0   17   8.0    6   9.0  13         7.0  \n1627  53.0   16  12.0    7  13.0  22         4.0  \n1755  52.0   19   8.0    5  11.0  18       -17.0  \n1789  43.0   30  11.0   10  12.0  17       -11.0  \n1861  47.0   20   4.0    9  12.0  25        -7.0  \n2053  58.0   26   4.0    3  25.0  24       -18.0  \n2117  51.0   15   8.0    4  18.0  18        10.0  \n\n[28 rows x 28 columns]",
      "text/html": "<div>\n<style scoped>\n    .dataframe tbody tr th:only-of-type {\n        vertical-align: middle;\n    }\n\n    .dataframe tbody tr th {\n        vertical-align: top;\n    }\n\n    .dataframe thead th {\n        text-align: right;\n    }\n</style>\n<table border=\"1\" class=\"dataframe\">\n  <thead>\n    <tr style=\"text-align: right;\">\n      <th></th>\n      <th>SEASON_ID</th>\n      <th>TEAM_ID</th>\n      <th>TEAM_ABBREVIATION</th>\n      <th>TEAM_NAME</th>\n      <th>GAME_ID</th>\n      <th>GAME_DATE</th>\n      <th>MATCHUP</th>\n      <th>WL</th>\n      <th>MIN</th>\n      <th>PTS</th>\n      <th>...</th>\n      <th>FT_PCT</th>\n      <th>OREB</th>\n      <th>DREB</th>\n      <th>REB</th>\n      <th>AST</th>\n      <th>STL</th>\n      <th>BLK</th>\n      <th>TOV</th>\n      <th>PF</th>\n      <th>PLUS_MINUS</th>\n    </tr>\n  </thead>\n  <tbody>\n    <tr>\n      <th>9</th>\n      <td>42018</td>\n      <td>1610612744</td>\n      <td>GSW</td>\n      <td>Golden State Warriors</td>\n      <td>0041800405</td>\n      <td>2019-06-10</td>\n      <td>GSW @ TOR</td>\n      <td>W</td>\n      <td>240</td>\n      <td>106</td>\n      <td>...</td>\n      <td>0.714</td>\n      <td>6.0</td>\n      <td>31.0</td>\n      <td>37.0</td>\n      <td>27</td>\n      <td>5.0</td>\n      <td>7</td>\n      <td>15.0</td>\n      <td>22</td>\n      <td>1.0</td>\n    </tr>\n    <tr>\n      <th>12</th>\n      <td>42018</td>\n      <td>1610612744</td>\n      <td>GSW</td>\n      <td>Golden State Warriors</td>\n      <td>0041800402</td>\n      <td>2019-06-02</td>\n      <td>GSW @ TOR</td>\n      <td>W</td>\n      <td>240</td>\n      <td>109</td>\n      <td>...</td>\n      <td>0.870</td>\n      <td>6.0</td>\n      <td>36.0</td>\n      <td>42.0</td>\n      <td>34</td>\n      <td>7.0</td>\n      <td>5</td>\n      <td>15.0</td>\n      <td>26</td>\n      <td>5.0</td>\n    </tr>\n    <tr>\n      <th>13</th>\n      <td>42018</td>\n      <td>1610612744</td>\n      <td>GSW</td>\n      <td>Golden State Warriors</td>\n      <td>0041800401</td>\n      <td>2019-05-30</td>\n      <td>GSW @ TOR</td>\n      <td>L</td>\n      <td>239</td>\n      <td>109</td>\n      <td>...</td>\n      <td>0.935</td>\n      <td>9.0</td>\n      <td>29.0</td>\n      <td>38.0</td>\n      <td>29</td>\n      <td>6.0</td>\n      <td>2</td>\n      <td>16.0</td>\n      <td>27</td>\n      <td>-9.0</td>\n    </tr>\n    <tr>\n      <th>89</th>\n      <td>22018</td>\n      <td>1610612744</td>\n      <td>GSW</td>\n      <td>Golden State Warriors</td>\n      <td>0021800316</td>\n      <td>2018-11-29</td>\n      <td>GSW @ TOR</td>\n      <td>L</td>\n      <td>265</td>\n      <td>128</td>\n      <td>...</td>\n      <td>0.850</td>\n      <td>17.0</td>\n      <td>29.0</td>\n      <td>46.0</td>\n      <td>27</td>\n      <td>6.0</td>\n      <td>5</td>\n      <td>14.0</td>\n      <td>22</td>\n      <td>-3.0</td>\n    </tr>\n    <tr>\n      <th>184</th>\n      <td>22017</td>\n      <td>1610612744</td>\n      <td>GSW</td>\n      <td>Golden State Warriors</td>\n      <td>0021700631</td>\n      <td>2018-01-13</td>\n      <td>GSW @ TOR</td>\n      <td>W</td>\n      <td>239</td>\n      <td>127</td>\n      <td>...</td>\n      <td>0.857</td>\n      <td>3.0</td>\n      <td>27.0</td>\n      <td>30.0</td>\n      <td>28</td>\n      <td>4.0</td>\n      <td>3</td>\n      <td>6.0</td>\n      <td>20</td>\n      <td>2.0</td>\n    </tr>\n    <tr>\n      <th>326</th>\n      <td>22016</td>\n      <td>1610612744</td>\n      <td>GSW</td>\n      <td>Golden State Warriors</td>\n      <td>0021600165</td>\n      <td>2016-11-16</td>\n      <td>GSW @ TOR</td>\n      <td>W</td>\n      <td>240</td>\n      <td>127</td>\n      <td>...</td>\n      <td>0.929</td>\n      <td>7.0</td>\n      <td>28.0</td>\n      <td>35.0</td>\n      <td>33</td>\n      <td>9.0</td>\n      <td>7</td>\n      <td>12.0</td>\n      <td>25</td>\n      <td>6.0</td>\n    </tr>\n    <tr>\n      <th>343</th>\n      <td>12016</td>\n      <td>1610612744</td>\n      <td>GSW</td>\n      <td>Golden State Warriors</td>\n      <td>0011600001</td>\n      <td>2016-10-01</td>\n      <td>GSW @ TOR</td>\n      <td>L</td>\n      <td>241</td>\n      <td>93</td>\n      <td>...</td>\n      <td>0.625</td>\n      <td>9.0</td>\n      <td>33.0</td>\n      <td>42.0</td>\n      <td>19</td>\n      <td>15.0</td>\n      <td>7</td>\n      <td>21.0</td>\n      <td>24</td>\n      <td>-4.0</td>\n    </tr>\n    <tr>\n      <th>345</th>\n      <td>22016</td>\n      <td>1610612744</td>\n      <td>GSW</td>\n      <td>Golden State Warriors</td>\n      <td>1521600051</td>\n      <td>2016-07-14</td>\n      <td>GSW @ TOR</td>\n      <td>L</td>\n      <td>198</td>\n      <td>69</td>\n      <td>...</td>\n      <td>0.750</td>\n      <td>14.0</td>\n      <td>29.0</td>\n      <td>43.0</td>\n      <td>16</td>\n      <td>9.0</td>\n      <td>3</td>\n      <td>17.0</td>\n      <td>25</td>\n      <td>-6.0</td>\n    </tr>\n    <tr>\n      <th>435</th>\n      <td>22015</td>\n      <td>1610612744</td>\n      <td>GSW</td>\n      <td>Golden State Warriors</td>\n      <td>0021500290</td>\n      <td>2015-12-05</td>\n      <td>GSW @ TOR</td>\n      <td>W</td>\n      <td>239</td>\n      <td>112</td>\n      <td>...</td>\n      <td>0.722</td>\n      <td>8.0</td>\n      <td>35.0</td>\n      <td>43.0</td>\n      <td>22</td>\n      <td>2.0</td>\n      <td>5</td>\n      <td>12.0</td>\n      <td>24</td>\n      <td>3.0</td>\n    </tr>\n    <tr>\n      <th>516</th>\n      <td>22014</td>\n      <td>1610612744</td>\n      <td>GSW</td>\n      <td>Golden State Warriors</td>\n      <td>0021400861</td>\n      <td>2015-02-27</td>\n      <td>GSW @ TOR</td>\n      <td>W</td>\n      <td>240</td>\n      <td>113</td>\n      <td>...</td>\n      <td>0.842</td>\n      <td>9.0</td>\n      <td>38.0</td>\n      <td>47.0</td>\n      <td>31</td>\n      <td>11.0</td>\n      <td>5</td>\n      <td>12.0</td>\n      <td>22</td>\n      <td>24.0</td>\n    </tr>\n    <tr>\n      <th>614</th>\n      <td>22013</td>\n      <td>1610612744</td>\n      <td>GSW</td>\n      <td>Golden State Warriors</td>\n      <td>0021300884</td>\n      <td>2014-03-02</td>\n      <td>GSW @ TOR</td>\n      <td>L</td>\n      <td>240</td>\n      <td>98</td>\n      <td>...</td>\n      <td>0.800</td>\n      <td>16.0</td>\n      <td>25.0</td>\n      <td>41.0</td>\n      <td>25</td>\n      <td>5.0</td>\n      <td>5</td>\n      <td>13.0</td>\n      <td>22</td>\n      <td>-6.0</td>\n    </tr>\n    <tr>\n      <th>738</th>\n      <td>22012</td>\n      <td>1610612744</td>\n      <td>GSW</td>\n      <td>Golden State Warriors</td>\n      <td>0021200659</td>\n      <td>2013-01-28</td>\n      <td>GSW @ TOR</td>\n      <td>W</td>\n      <td>240</td>\n      <td>114</td>\n      <td>...</td>\n      <td>0.800</td>\n      <td>13.0</td>\n      <td>36.0</td>\n      <td>49.0</td>\n      <td>22</td>\n      <td>4.0</td>\n      <td>8</td>\n      <td>13.0</td>\n      <td>19</td>\n      <td>12.0</td>\n    </tr>\n    <tr>\n      <th>827</th>\n      <td>22011</td>\n      <td>1610612744</td>\n      <td>GSW</td>\n      <td>Golden State Warriors</td>\n      <td>0021100548</td>\n      <td>2012-03-04</td>\n      <td>GSW @ TOR</td>\n      <td>L</td>\n      <td>241</td>\n      <td>75</td>\n      <td>...</td>\n      <td>0.684</td>\n      <td>10.0</td>\n      <td>31.0</td>\n      <td>41.0</td>\n      <td>17</td>\n      <td>6.0</td>\n      <td>3</td>\n      <td>12.0</td>\n      <td>20</td>\n      <td>-8.0</td>\n    </tr>\n    <tr>\n      <th>938</th>\n      <td>22010</td>\n      <td>1610612744</td>\n      <td>GSW</td>\n      <td>Golden State Warriors</td>\n      <td>0021000097</td>\n      <td>2010-11-08</td>\n      <td>GSW @ TOR</td>\n      <td>W</td>\n      <td>239</td>\n      <td>109</td>\n      <td>...</td>\n      <td>0.813</td>\n      <td>11.0</td>\n      <td>31.0</td>\n      <td>42.0</td>\n      <td>19</td>\n      <td>13.0</td>\n      <td>7</td>\n      <td>20.0</td>\n      <td>26</td>\n      <td>7.0</td>\n    </tr>\n    <tr>\n      <th>964</th>\n      <td>22009</td>\n      <td>1610612744</td>\n      <td>GSW</td>\n      <td>Golden State Warriors</td>\n      <td>0020901145</td>\n      <td>2010-04-04</td>\n      <td>GSW @ TOR</td>\n      <td>W</td>\n      <td>240</td>\n      <td>113</td>\n      <td>...</td>\n      <td>0.720</td>\n      <td>7.0</td>\n      <td>33.0</td>\n      <td>40.0</td>\n      <td>31</td>\n      <td>7.0</td>\n      <td>3</td>\n      <td>13.0</td>\n      <td>28</td>\n      <td>1.0</td>\n    </tr>\n    <tr>\n      <th>1133</th>\n      <td>22008</td>\n      <td>1610612744</td>\n      <td>GSW</td>\n      <td>Golden State Warriors</td>\n      <td>0020800020</td>\n      <td>2008-10-31</td>\n      <td>GSW @ TOR</td>\n      <td>L</td>\n      <td>266</td>\n      <td>108</td>\n      <td>...</td>\n      <td>0.684</td>\n      <td>17.0</td>\n      <td>29.0</td>\n      <td>46.0</td>\n      <td>20</td>\n      <td>6.0</td>\n      <td>6</td>\n      <td>18.0</td>\n      <td>25</td>\n      <td>-4.0</td>\n    </tr>\n    <tr>\n      <th>1141</th>\n      <td>22008</td>\n      <td>1610612744</td>\n      <td>GSW</td>\n      <td>Golden State Warriors</td>\n      <td>1520800043</td>\n      <td>2008-07-19</td>\n      <td>GSW @ TOR</td>\n      <td>W</td>\n      <td>201</td>\n      <td>95</td>\n      <td>...</td>\n      <td>0.781</td>\n      <td>19.0</td>\n      <td>19.0</td>\n      <td>38.0</td>\n      <td>15</td>\n      <td>10.0</td>\n      <td>5</td>\n      <td>17.0</td>\n      <td>26</td>\n      <td>5.0</td>\n    </tr>\n    <tr>\n      <th>1221</th>\n      <td>22007</td>\n      <td>1610612744</td>\n      <td>GSW</td>\n      <td>Golden State Warriors</td>\n      <td>0020700141</td>\n      <td>2007-11-18</td>\n      <td>GSW @ TOR</td>\n      <td>W</td>\n      <td>239</td>\n      <td>106</td>\n      <td>...</td>\n      <td>0.667</td>\n      <td>12.0</td>\n      <td>35.0</td>\n      <td>47.0</td>\n      <td>20</td>\n      <td>5.0</td>\n      <td>3</td>\n      <td>17.0</td>\n      <td>22</td>\n      <td>6.0</td>\n    </tr>\n    <tr>\n      <th>1308</th>\n      <td>22006</td>\n      <td>1610612744</td>\n      <td>GSW</td>\n      <td>Golden State Warriors</td>\n      <td>0020600351</td>\n      <td>2006-12-17</td>\n      <td>GSW @ TOR</td>\n      <td>L</td>\n      <td>240</td>\n      <td>115</td>\n      <td>...</td>\n      <td>0.880</td>\n      <td>8.0</td>\n      <td>30.0</td>\n      <td>38.0</td>\n      <td>23</td>\n      <td>3.0</td>\n      <td>2</td>\n      <td>17.0</td>\n      <td>27</td>\n      <td>-5.0</td>\n    </tr>\n    <tr>\n      <th>1399</th>\n      <td>22005</td>\n      <td>1610612744</td>\n      <td>GSW</td>\n      <td>Golden State Warriors</td>\n      <td>0020500322</td>\n      <td>2005-12-16</td>\n      <td>GSW @ TOR</td>\n      <td>W</td>\n      <td>240</td>\n      <td>108</td>\n      <td>...</td>\n      <td>0.652</td>\n      <td>6.0</td>\n      <td>27.0</td>\n      <td>33.0</td>\n      <td>27</td>\n      <td>10.0</td>\n      <td>1</td>\n      <td>11.0</td>\n      <td>23</td>\n      <td>10.0</td>\n    </tr>\n    <tr>\n      <th>1477</th>\n      <td>22004</td>\n      <td>1610612744</td>\n      <td>GSW</td>\n      <td>Golden State Warriors</td>\n      <td>0020400487</td>\n      <td>2005-01-09</td>\n      <td>GSW @ TOR</td>\n      <td>L</td>\n      <td>240</td>\n      <td>87</td>\n      <td>...</td>\n      <td>0.917</td>\n      <td>10.0</td>\n      <td>29.0</td>\n      <td>39.0</td>\n      <td>17</td>\n      <td>5.0</td>\n      <td>4</td>\n      <td>16.0</td>\n      <td>12</td>\n      <td>-22.0</td>\n    </tr>\n    <tr>\n      <th>1522</th>\n      <td>22003</td>\n      <td>1610612744</td>\n      <td>GSW</td>\n      <td>Golden State Warriors</td>\n      <td>0020301081</td>\n      <td>2004-03-31</td>\n      <td>GSW @ TOR</td>\n      <td>W</td>\n      <td>240</td>\n      <td>85</td>\n      <td>...</td>\n      <td>0.714</td>\n      <td>10.0</td>\n      <td>35.0</td>\n      <td>45.0</td>\n      <td>17</td>\n      <td>8.0</td>\n      <td>6</td>\n      <td>9.0</td>\n      <td>13</td>\n      <td>7.0</td>\n    </tr>\n    <tr>\n      <th>1627</th>\n      <td>22002</td>\n      <td>1610612744</td>\n      <td>GSW</td>\n      <td>Golden State Warriors</td>\n      <td>0020200732</td>\n      <td>2003-02-14</td>\n      <td>GSW @ TOR</td>\n      <td>W</td>\n      <td>264</td>\n      <td>118</td>\n      <td>...</td>\n      <td>0.818</td>\n      <td>16.0</td>\n      <td>37.0</td>\n      <td>53.0</td>\n      <td>16</td>\n      <td>12.0</td>\n      <td>7</td>\n      <td>13.0</td>\n      <td>22</td>\n      <td>4.0</td>\n    </tr>\n    <tr>\n      <th>1755</th>\n      <td>22001</td>\n      <td>1610612744</td>\n      <td>GSW</td>\n      <td>Golden State Warriors</td>\n      <td>0020100064</td>\n      <td>2001-11-07</td>\n      <td>GSW @ TOR</td>\n      <td>L</td>\n      <td>240</td>\n      <td>92</td>\n      <td>...</td>\n      <td>0.732</td>\n      <td>20.0</td>\n      <td>32.0</td>\n      <td>52.0</td>\n      <td>19</td>\n      <td>8.0</td>\n      <td>5</td>\n      <td>11.0</td>\n      <td>18</td>\n      <td>-17.0</td>\n    </tr>\n    <tr>\n      <th>1789</th>\n      <td>22000</td>\n      <td>1610612744</td>\n      <td>GSW</td>\n      <td>Golden State Warriors</td>\n      <td>0020000765</td>\n      <td>2001-02-20</td>\n      <td>GSW @ TOR</td>\n      <td>L</td>\n      <td>240</td>\n      <td>102</td>\n      <td>...</td>\n      <td>0.600</td>\n      <td>17.0</td>\n      <td>26.0</td>\n      <td>43.0</td>\n      <td>30</td>\n      <td>11.0</td>\n      <td>10</td>\n      <td>12.0</td>\n      <td>17</td>\n      <td>-11.0</td>\n    </tr>\n    <tr>\n      <th>1861</th>\n      <td>21999</td>\n      <td>1610612744</td>\n      <td>GSW</td>\n      <td>Golden State Warriors</td>\n      <td>0029900911</td>\n      <td>2000-03-14</td>\n      <td>GSW @ TOR</td>\n      <td>L</td>\n      <td>240</td>\n      <td>78</td>\n      <td>...</td>\n      <td>0.462</td>\n      <td>16.0</td>\n      <td>31.0</td>\n      <td>47.0</td>\n      <td>20</td>\n      <td>4.0</td>\n      <td>9</td>\n      <td>12.0</td>\n      <td>25</td>\n      <td>-7.0</td>\n    </tr>\n    <tr>\n      <th>2053</th>\n      <td>21997</td>\n      <td>1610612744</td>\n      <td>GSW</td>\n      <td>Golden State Warriors</td>\n      <td>0029700034</td>\n      <td>1997-11-04</td>\n      <td>GSW @ TOR</td>\n      <td>L</td>\n      <td>241</td>\n      <td>86</td>\n      <td>...</td>\n      <td>0.517</td>\n      <td>23.0</td>\n      <td>35.0</td>\n      <td>58.0</td>\n      <td>26</td>\n      <td>4.0</td>\n      <td>3</td>\n      <td>25.0</td>\n      <td>24</td>\n      <td>-18.0</td>\n    </tr>\n    <tr>\n      <th>2117</th>\n      <td>21996</td>\n      <td>1610612744</td>\n      <td>GSW</td>\n      <td>Golden State Warriors</td>\n      <td>0029600277</td>\n      <td>1996-12-10</td>\n      <td>GSW @ TOR</td>\n      <td>W</td>\n      <td>239</td>\n      <td>101</td>\n      <td>...</td>\n      <td>0.842</td>\n      <td>22.0</td>\n      <td>29.0</td>\n      <td>51.0</td>\n      <td>15</td>\n      <td>8.0</td>\n      <td>4</td>\n      <td>18.0</td>\n      <td>18</td>\n      <td>10.0</td>\n    </tr>\n  </tbody>\n</table>\n<p>28 rows × 28 columns</p>\n</div>"
     },
     "execution_count": 34,
     "metadata": {},
     "output_type": "execute_result"
    }
   ],
   "source": [
    "games_away"
   ],
   "metadata": {
    "collapsed": false,
    "pycharm": {
     "name": "#%%\n"
    }
   }
  },
  {
   "cell_type": "markdown",
   "metadata": {
    "pycharm": {
     "name": "#%% md\n"
    }
   },
   "source": [
    "We can calculate the mean for the column <code>PLUS_MINUS</code> for the dataframes <code>games_home</code> and <code> games_away</code>:\n"
   ]
  },
  {
   "cell_type": "code",
   "execution_count": 36,
   "metadata": {
    "pycharm": {
     "name": "#%%\n"
    }
   },
   "outputs": [
    {
     "data": {
      "text/plain": "3.730769230769231"
     },
     "execution_count": 36,
     "metadata": {},
     "output_type": "execute_result"
    }
   ],
   "source": [
    "games_home['PLUS_MINUS'].mean()"
   ]
  },
  {
   "cell_type": "code",
   "execution_count": 37,
   "metadata": {
    "pycharm": {
     "name": "#%%\n"
    }
   },
   "outputs": [
    {
     "data": {
      "text/plain": "-0.6071428571428571"
     },
     "execution_count": 37,
     "metadata": {},
     "output_type": "execute_result"
    }
   ],
   "source": [
    "games_away['PLUS_MINUS'].mean()"
   ]
  },
  {
   "cell_type": "markdown",
   "metadata": {
    "pycharm": {
     "name": "#%% md\n"
    }
   },
   "source": [
    "We can plot out the <code>PLUS MINUS</code> column for the dataframes <code>games_home</code> and <code> games_away</code>.\n",
    "We see the warriors played better at home.\n"
   ]
  },
  {
   "cell_type": "code",
   "execution_count": 38,
   "metadata": {
    "pycharm": {
     "name": "#%%\n"
    }
   },
   "outputs": [
    {
     "data": {
      "text/plain": "<Figure size 640x480 with 1 Axes>",
      "image/png": "[encoded data removed]"
     },
     "metadata": {},
     "output_type": "display_data"
    }
   ],
   "source": [
    "fig, ax = plt.subplots()\n",
    "\n",
    "games_away.plot(x='GAME_DATE',y='PLUS_MINUS', ax=ax)\n",
    "games_home.plot(x='GAME_DATE',y='PLUS_MINUS', ax=ax)\n",
    "ax.legend([\"away\", \"home\"])\n",
    "plt.show()"
   ]
  },
  {
   "cell_type": "markdown",
   "metadata": {
    "pycharm": {
     "name": "#%% md\n"
    }
   },
   "source": [
    "<h2>Quiz</h2>\n"
   ]
  },
  {
   "cell_type": "markdown",
   "metadata": {
    "pycharm": {
     "name": "#%% md\n"
    }
   },
   "source": [
    "Calculate the mean for the column <code>PTS</code> for the dataframes <code>games_home</code> and <code> games_away</code>:\n"
   ]
  },
  {
   "cell_type": "code",
   "execution_count": 39,
   "metadata": {
    "pycharm": {
     "name": "#%%\n"
    }
   },
   "outputs": [
    {
     "data": {
      "text/plain": "106.8076923076923"
     },
     "execution_count": 39,
     "metadata": {},
     "output_type": "execute_result"
    }
   ],
   "source": [
    "# Write your code below and press Shift+Enter to execute\n",
    "games_home['PTS'].mean()"
   ]
  },
  {
   "cell_type": "code",
   "execution_count": 40,
   "outputs": [
    {
     "data": {
      "text/plain": "102.96428571428571"
     },
     "execution_count": 40,
     "metadata": {},
     "output_type": "execute_result"
    }
   ],
   "source": [
    "games_away['PTS'].mean()"
   ],
   "metadata": {
    "collapsed": false,
    "pycharm": {
     "name": "#%%\n"
    }
   }
  },
  {
   "cell_type": "markdown",
   "metadata": {
    "pycharm": {
     "name": "#%% md\n"
    }
   },
   "source": [
    "<details><summary>Click here for the solution</summary>\n",
    "\n",
    "```python\n",
    "games_home.mean()['PTS']\n",
    "\n",
    "games_away.mean()['PTS']\n",
    "\n",
    "```\n",
    "\n",
    "</details>\n"
   ]
  }
 ],
 "metadata": {
  "kernelspec": {
   "name": "python3",
   "language": "python",
   "display_name": "Python 3 (ipykernel)"
  },
  "language_info": {
   "codemirror_mode": {
    "name": "ipython",
    "version": 3
   },
   "file_extension": ".py",
   "mimetype": "text/x-python",
   "name": "python",
   "nbconvert_exporter": "python",
   "pygments_lexer": "ipython3",
   "version": "3.7.12"
  }
 },
 "nbformat": 4,
 "nbformat_minor": 4
}